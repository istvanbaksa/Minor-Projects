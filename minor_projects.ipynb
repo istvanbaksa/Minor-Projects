{
  "nbformat": 4,
  "nbformat_minor": 0,
  "metadata": {
    "colab": {
      "name": "minor_projects.ipynb",
      "provenance": [],
      "authorship_tag": "ABX9TyM8J/ekc+yY4r3DNyOZoPyL",
      "include_colab_link": true
    },
    "kernelspec": {
      "name": "python3",
      "display_name": "Python 3"
    },
    "language_info": {
      "name": "python"
    }
  },
  "cells": [
    {
      "cell_type": "markdown",
      "metadata": {
        "id": "view-in-github",
        "colab_type": "text"
      },
      "source": [
        "<a href=\"https://colab.research.google.com/github/istvanbaksa/minor_projects/blob/main/minor_projects.ipynb\" target=\"_parent\"><img src=\"https://colab.research.google.com/assets/colab-badge.svg\" alt=\"Open In Colab\"/></a>"
      ]
    },
    {
      "cell_type": "markdown",
      "source": [
        "# Minor Projects"
      ],
      "metadata": {
        "id": "VvtebgRyZ-n8"
      }
    },
    {
      "cell_type": "markdown",
      "source": [
        "## WC '16 Contest 1 J1 - A Spooky Season\n",
        "\n",
        "Woburn Challenge 2016-17 Round 1 - Junior Division\n",
        "\n",
        "Link: https://dmoj.ca/problem/wc16c1j1"
      ],
      "metadata": {
        "id": "ZbZI3OpDaHcT"
      }
    },
    {
      "cell_type": "markdown",
      "source": [
        "Late October can be a rather frightening time of year. Night begins to fall ever earlier, ancient Pagan rituals make demons stir, and at the end of the month, hordes of small creatures can even be seen roaming the streets! It's a spooky sight if there ever was one.\n",
        "\n",
        "But just how spooky is this demonic festival? Its spookiness level can, in fact, be measured and represented as a single integer S(2 ≤ S ≤ 20). However, a simple number doesn't truly do the spooky sensation justice. As such, it can also be described with the word spoo...ooky, with exactly S o's.\n",
        "\n",
        "Given the integer S, can you cast a spooky incantation on your computer to have it produce the corresponding spooky word?\n",
        "\n",
        "Input Specification\n",
        "The first and only line of input consists of a single integer S.\n",
        "\n",
        "Output Specification\n",
        "Output a single line consisting of a single string – the spooky word corresponding to the given value of S."
      ],
      "metadata": {
        "id": "VyWebMiEQQbz"
      }
    },
    {
      "cell_type": "code",
      "source": [
        "print(\"Please Enter the level S of spookyness. This number should be an integer between 2 and 20, including 2 and 20.\")\n",
        "level = int(input(\"S = \"))\n",
        "\n",
        "while(level not in range(2,21)): \n",
        "    print(\"Sorry, the entry doesn't match the requirements. Enter the number again.\")\n",
        "  \n",
        "    level = int(input(\"S = \"))\n",
        "  \n",
        "number_o = \"o\"*level\n",
        "result = f\"Sp{number_o}ky\"\n",
        "\n",
        "print(result)"
      ],
      "metadata": {
        "colab": {
          "base_uri": "https://localhost:8080/"
        },
        "id": "E9aRpIDmbhqq",
        "outputId": "5465bd36-5e5f-4c1a-9134-71b514ea561e"
      },
      "execution_count": 1,
      "outputs": [
        {
          "output_type": "stream",
          "name": "stdout",
          "text": [
            "Please Enter the level S of spookyness. This number should be an integer between 2 and 20, including 2 and 20.\n",
            "S = 4\n",
            "Spooooky\n"
          ]
        }
      ]
    },
    {
      "cell_type": "markdown",
      "source": [
        "## WC '15 Contest 2 J1 - A New Hope\n",
        "\n",
        "Woburn Challenge 2015-16 Round 2 - Junior Division\n",
        "\n",
        "Link: https://dmoj.ca/problem/wc15c2j1"
      ],
      "metadata": {
        "id": "8Qh_zy_Jb0U4"
      }
    },
    {
      "cell_type": "markdown",
      "source": [
        "*\"It is a period of civil war. Rebel programs, striking from a hidden computer, have won their first victory against the evil System Tests.\"*\n",
        "\n",
        "You might be aware that the events of the Star Wars saga took place a long time ago, in a galaxy that was rather far away. But just how far away was it? We can try to describe it by repeating the word far a certain number of times in the following sentence format:\n",
        "\n",
        "A long time ago in a galaxy far, far away...\n",
        "\n",
        "In the above example, the word far is repeated twice. However, we'd instead like to repeat it exactly N (1 ≤ N ≤ 5) times without changing the rest of the sentence at all. There should be a comma right after each occurrence except for the last one.\n",
        "\n",
        "Given N, can you produce the correct sentence?\n",
        "\n",
        "**Input Specification**\n",
        "\n",
        "The input consists of a single integer N.\n",
        "\n",
        "**Output Specification**\n",
        "\n",
        "Output on a single line the appropriate sentence with far repeated N times. It must match the correct answer exactly!"
      ],
      "metadata": {
        "id": "AYQccF_7SZP_"
      }
    },
    {
      "cell_type": "code",
      "source": [
        "far_nr = int(input(\"How far ist far away? Enter a number between 1 and 5, including 1 and 5.\"))\n",
        "\n",
        "while(far_nr not in range(1,6)):\n",
        "  print(\"Sorry but the entered number must be between 1 and 5, including 1 and 5. Enter a number again.\")\n",
        "  far_nr = int(input())\n",
        "  \n",
        "msg_part = \"far, \" * (far_nr - 1) + \"far\"\n",
        "msg = f\"A long time ago in a galaxy {msg_part} away...\"\n",
        "\n",
        "print(msg)"
      ],
      "metadata": {
        "colab": {
          "base_uri": "https://localhost:8080/"
        },
        "id": "-3r92SzgcMwQ",
        "outputId": "c3f983a0-f570-41a6-fada-8c9b23a40466"
      },
      "execution_count": 2,
      "outputs": [
        {
          "output_type": "stream",
          "name": "stdout",
          "text": [
            "How far ist far away? Enter a number between 1 and 5, including 1 and 5.4\n",
            "A long time ago in a galaxy far, far, far, far away...\n"
          ]
        }
      ]
    },
    {
      "cell_type": "markdown",
      "source": [
        "## CCC '13 J1 - Next in line\n",
        "\n",
        "Canadian Computing Competition: 2013 Stage 1, Junior #1\n",
        "\n",
        "Link: https://dmoj.ca/problem/ccc13j1"
      ],
      "metadata": {
        "id": "4UMoLj24cf97"
      }
    },
    {
      "cell_type": "markdown",
      "source": [
        "You know a family with three children. Their ages form an arithmetic sequence: the difference in ages between the middle child and youngest child is the same as the difference in ages between the oldest child and the middle child. For example, their ages could be 5, 10 and 15, since both adjacent pairs have a difference of 5 years.\n",
        "\n",
        "Given the ages of the youngest and middle children, what is the age of the oldest child?\n",
        "\n",
        "**Input Specification**\n",
        "\n",
        "The input consists of two integers, each on a separate line. The first line is the age Y of the youngest child (0 ≤ Y ≤ 50). The second line is the age M of the middle child (Y ≤ M ≤ 50).\n",
        "\n",
        "**Output Specification**\n",
        "\n",
        "The output will be the age of the oldest child."
      ],
      "metadata": {
        "id": "lBGTz7IITDXT"
      }
    },
    {
      "cell_type": "code",
      "source": [
        "age_youngest = int(input(\"Please enter the age of the youngest child. Age = \"))\n",
        "age_middle = int(input(\"Please enter the age of the middle child. Age = \"))\n",
        "\n",
        "while True:\n",
        "    if (age_youngest <= age_middle\n",
        "            and (age_youngest or age_middle) in range(1, 51)):\n",
        "        break\n",
        "    elif (age_youngest > age_middle):\n",
        "        print(\n",
        "            \"The age of the younger brother cannot be greater than the age of the middle brother. Please enter the ages again.\"\n",
        "        )\n",
        "        age_youngest = int(\n",
        "            input(\"Please enter the age of the youngest child. Age = \"))\n",
        "        age_middle = int(\n",
        "            input(\"Please enter the age of the middle child. Age = \"))\n",
        "    elif (age_youngest or age_middle) not in range(1, 51):\n",
        "        print(\n",
        "            \"The age you have entered is not in the intervall [0,50] years. Enter the age again.\"\n",
        "        )\n",
        "        age_youngest = int(\n",
        "            input(\"Please enter the age of the youngest child. Age = \"))\n",
        "        age_middle = int(\n",
        "            input(\"Please enter the age of the middle child. Age = \"))\n",
        "\n",
        "age_oldest = age_middle + (age_middle - age_youngest)\n",
        "msg = f\"The age of the oldest brother is {age_oldest}\"\n",
        "\n",
        "print(msg)"
      ],
      "metadata": {
        "id": "c-ej0n8acxi2"
      },
      "execution_count": null,
      "outputs": []
    },
    {
      "cell_type": "markdown",
      "source": [
        "## WC '17 Contest 1 J2 - How's the Weather?\n",
        "Woburn Challenge 2017-18 Round 1 - Junior Division\n",
        "\n",
        "Link: https://dmoj.ca/problem/wc17c1j2"
      ],
      "metadata": {
        "id": "HkU30CmMc92e"
      }
    },
    {
      "cell_type": "markdown",
      "source": [
        "\"Ugh, It's been so hot out lately, why does it have to be 32 degrees…\"\n",
        "\"32 degrees? That's freezing!\"*\n",
        "\n",
        "You've had quite enough of confusing conversations with Americans who assume you're using Fahrenheit when Celsius is clearly the way to go. Rather than argue with them, you've settled for writing a program to conveniently convert temperatures measured in degrees Celsius to Fahrenheit instead.\n",
        "\n",
        "You came across the following formula, which holds true given that F is a temperature in degrees Fahrenheit while C is that same temperature in degrees Celsius:\n",
        "\n",
        " C = 5/9 * (F - 32)\n",
        "\n",
        "\n",
        "Given a value of C, which is an integer between -40 and 40 (inclusive), determine the corresponding value of F, so that you can express the equivalent temperature in degrees Fahrenheit for the Americans' benefit.\n",
        "\n",
        "It's guaranteed that C will be chosen such that F will come out to exactly an integer, but you may output it with 0 or more digits after the decimal point.\n",
        "\n",
        "**Input Specification**\n",
        "\n",
        "The first and only line of input consists of a single integer, C.\n",
        "\n",
        "**Output Specification**\n",
        "\n",
        "Output a single integer, the temperature in degrees Fahrenheit which is equivalent to C degrees Celsius."
      ],
      "metadata": {
        "id": "u4z4NiDVUgVl"
      }
    },
    {
      "cell_type": "code",
      "source": [
        "print(\"This program will convert Celsius values to Fahrenheit values. Please enter an integer Celsius value.\")\n",
        "celsius_inp = int(input(\"°C = \"))\n",
        "\n",
        "while True:\n",
        "  if celsius_inp in range(-40,41):\n",
        "    break\n",
        "  else:\n",
        "    print(\"The entered Celsius value is not in the interval [-40,40] °C. Please enter another number.\")\n",
        "    celsius_inp = int(input(\"°C = \"))\n",
        "\n",
        "fahrenheit_val = 1.8 * celsius_inp + 32\n",
        "\n",
        "print(fahrenheit_val)"
      ],
      "metadata": {
        "id": "eu4GZHWPdh1N"
      },
      "execution_count": null,
      "outputs": []
    },
    {
      "cell_type": "markdown",
      "source": [
        "## WC '18 Contest 3 J1 - An Honest Day's Work\n",
        "\n",
        "Woburn Challenge 2018-19 Round 3 - Junior Division\n",
        "\n",
        "Link: https://dmoj.ca/problem/wc18c3j1\n"
      ],
      "metadata": {
        "id": "9rwUNOW5doSb"
      }
    },
    {
      "cell_type": "markdown",
      "source": [
        "Jessie, James, and Meowth, members of the honourable Team Rocket, have unfortunately fallen on hard times. With their funds necessarily allocated to constructing all manner of giant robots and other devices, they've been having difficulty affording any food lately. But that's nothing that an honest day's work can't fix!\n",
        "\n",
        "James has a can of leftover paint, containing P (1 ≤ P ≤ 100) litres of the stuff. When combined with his boundless collection of bottlecaps, this can result in some high-quality wares. When a bottlecap is artfully covered with B (1 ≤ B ≤ 100) litres of paint, it turns into a completely legitimate, Pokémon league-certified gym badge!\n",
        "\n",
        "James will produce as many badges as he can using the paint, using exactly B litres each. Pokémon trainers love their gym badges, so each such badge is sure to sell for D (1 ≤ D ≤ 100) Pokédollars.\n",
        "\n",
        "There might still be some extra paint left over, once there's not enough for another complete badge. However, there's no need for it to go to waste - James will sell any remaining paint at a rate of 1 Pokédollar per litre.\n",
        "\n",
        "How much money will James make for Team Rocket in total, from his sales of badges and leftover paint? Hopefully it'll be enough for at least a loaf of bread!\n",
        "\n",
        "**Input Specification**\n",
        "\n",
        "The first line of input consists of a single integer, P.\n",
        "The second line consists of a single integer, B.\n",
        "The third line consists of a single integer, D.\n",
        "\n",
        "**Output Specification**\n",
        "\n",
        "Output a single integer, the amount of money which James will make (in Pokédollars)."
      ],
      "metadata": {
        "id": "7OMuLZidVwtb"
      }
    },
    {
      "cell_type": "code",
      "source": [
        "print(\"Please enter how many liter paint there is. This has to be a number between 1 and 100.\")\n",
        "P = int(input(\"Paint (in l) = \"))\n",
        "B = int(input(\"Paint (in l) = \"))\n",
        "D = int(input(\"Price per painted cap (in dollars) = \"))\n",
        "\n",
        "painted_caps = P // B\n",
        "\n",
        "leftover_paint = P - (painted_caps * B)\n",
        "\n",
        "profit = painted_caps * D + leftover_paint\n",
        "\n",
        "msg = f\"The profit is {profit} dollars.\"\n",
        "\n",
        "print(msg)"
      ],
      "metadata": {
        "id": "PPSQROdhe75J"
      },
      "execution_count": null,
      "outputs": []
    },
    {
      "cell_type": "markdown",
      "source": [
        "## CCC '19 J1 - Winning Score\n",
        "\n",
        "Canadian Computing Competition: 2019 Stage 1, Junior #1\n",
        "\n",
        "Link: https://dmoj.ca/problem/ccc19j1"
      ],
      "metadata": {
        "id": "lwcs6dpSfewk"
      }
    },
    {
      "cell_type": "markdown",
      "source": [
        "You record all of the scoring activity at a basketball game. Points are scored by 3 -point shot, 2 -point field goal, or 1 -point free throw.\n",
        "\n",
        "You know the number of each of these types of scoring for the two teams: the Apples and the Bananas. Your job is to determine which team won, or if the game ended in a tie.\n",
        "\n",
        "\n",
        "**Input Specification**\n",
        "\n",
        "The first three lines of input describe the scoring of the Apples, and the next three lines of input describe the scoring of the Bananas. For each team, the first line contains the number of successful 3-point shots, the second line contains the number of successful 2-point field goals, and the third line contains the number of successful 1-point free throws. Each number will be an integer between 0 and 100, inclusive.\n",
        "\n",
        "\n",
        "**Output Specification**\n",
        "\n",
        "The output will be a single character. If the Apples scored more points than the Bananas, output A. If the Bananas scored more points than the Apples, output B. Otherwise, output T, to indicate a tie.\n",
        "\n"
      ],
      "metadata": {
        "id": "2-u68b5vhLns"
      }
    },
    {
      "cell_type": "code",
      "source": [
        "print(\"Please enter values for the team Apples.\")\n",
        "\n",
        "A_S = int(input(\"Number of 3-point shots = \"))\n",
        "A_G = int(input(\"Number of 2-point goals = \"))\n",
        "A_FT = int(input(\"Number of 1-point free throws = \"))\n",
        "print(\"Please enter values for the team Bananas.\")\n",
        "B_S = int(input(\"Number of 3-point shots = \"))\n",
        "B_G = int(input(\"Number of 2-point goals = \"))\n",
        "B_FT = int(input(\"Number of 1-point free throws = \"))\n",
        "\n",
        "Total_A = (A_S * 3 + A_G * 2 + A_FT)\n",
        "Total_B = (B_S * 3 + B_G * 2 + B_FT)\n",
        "\n",
        "if(Total_A > Total_B):\n",
        "    print(\"A\")\n",
        "elif(Total_A < Total_B):\n",
        "    print(\"B\")\n",
        "elif(Total_A == Total_B):\n",
        "    print(\"T\")"
      ],
      "metadata": {
        "id": "HKX-6uEhf4xx"
      },
      "execution_count": null,
      "outputs": []
    },
    {
      "cell_type": "markdown",
      "source": [
        "## COCI '06 Contest 5 #1 Trik\n",
        "\n",
        "Link: https://dmoj.ca/problem/coci06c5p1\n"
      ],
      "metadata": {
        "id": "DBBICmFciiNw"
      }
    },
    {
      "cell_type": "markdown",
      "source": [
        "Jealous of Mirko's position as head of the village, Borko stormed into his tent and tried to demonstrate Mirko's incompetence for leadership with a trick.\n",
        "\n",
        "Borko puts three opaque cups onto the table next to each other (opening facing down) and a small ball under the leftmost cup. He then swaps two cups in one of three possible ways a number of times. Mirko has to tell which cup the ball ends up under.\n",
        "\n",
        "Wise Mirko grins with his arms crossed while Borko struggles to move the cups faster and faster. What Borko does not know is that programmers in the back are recording all his moves and will use a simple program to determine where the ball is. Write that program.\n",
        "\n",
        "**Input Specification**\n",
        "\n",
        "The first and only line contains a string of at most 50 characters, Borko's moves.\n",
        "\n",
        "Each of the characters is A, B or C.\n",
        "\n",
        "**Output Specification**\n",
        "\n",
        "Output the index of the cup under which the ball is:  if it is under the left cup,  if it is under the middle cup or  if it is under the right cup."
      ],
      "metadata": {
        "id": "FzmmqWDYi4Py"
      }
    },
    {
      "cell_type": "code",
      "source": [
        "print(\"This is a Three-Cup-Game-Program. Three Cups are placed upside down on a table. There is a ball under the left one. Please enter a sequence of at most 50 moves.\")\n",
        "\n",
        "seq = input(\"Sequence = \").lower()\n",
        "seq_length = len(seq)\n",
        "ball_pos = 1\n",
        "seq_pos = 0\n",
        "\n",
        "while (seq_pos <= (seq_length-1)):\n",
        "   if (seq[seq_pos] == \"a\") and (ball_pos == 1):\n",
        "     ball_pos = 2\n",
        "   elif (seq[seq_pos] == \"a\") and (ball_pos == 2):\n",
        "     ball_pos = 1\n",
        "   elif (seq[seq_pos] == \"b\") and (ball_pos == 2):\n",
        "     ball_pos = 3\n",
        "   elif (seq[seq_pos] == \"b\") and (ball_pos == 3):\n",
        "     ball_pos = 2\n",
        "   elif (seq[seq_pos] == \"c\") and (ball_pos == 1):\n",
        "     ball_pos = 3\n",
        "   elif (seq[seq_pos] == \"c\") and (ball_pos == 3):\n",
        "     ball_pos = 1\n",
        "   seq_pos += 1\n",
        "\n",
        "print(ball_pos)"
      ],
      "metadata": {
        "id": "EPtZYitAjjl7"
      },
      "execution_count": null,
      "outputs": []
    },
    {
      "cell_type": "markdown",
      "source": [
        "## CCC '18 J2 - Occupy parking\n",
        "\n",
        "Canadian Computing Competition: 2018 Stage 1, Junior #2\n",
        "\n",
        "Link: https://dmoj.ca/problem/ccc18j2"
      ],
      "metadata": {
        "id": "j-sjWpLZj-2I"
      }
    },
    {
      "cell_type": "markdown",
      "source": [
        "You supervise a small parking lot which has N parking spaces.\n",
        "\n",
        "Yesterday, you recorded which parking spaces were occupied by cars and which were empty.\n",
        "\n",
        "Today, you recorded the same information.\n",
        "\n",
        "How many of the parking spaces were occupied both yesterday and today?\n",
        "\n",
        "**Input Specification**\n",
        "\n",
        "The first line of input contains the integer N(1 ≤ N ≤ 100). The second and third lines of input contain N characters each. The second line of input records the information about yesterday's parking spaces, and the third line of input records the information about today's parking spaces. Each of these 2N characters will either be C to indicate an occupied space or . to indicate it was an empty parking space.\n",
        "\n",
        "**Output Specification**\n",
        "\n",
        "Output the number of parking spaces which were occupied yesterday and today."
      ],
      "metadata": {
        "id": "_t4DpxCHkWvJ"
      }
    },
    {
      "cell_type": "code",
      "source": [
        "print(\"Enter the number of parking spaces\")\n",
        "\n",
        "spaces_total = int(input(\"Number of parking spaces = \"))\n",
        "occ_yest = input(\"Enter a string for yesterday. c = Car, . = empty space. String = \")\n",
        "occ_today = input(\"Enter a string for today. c = Car, . = empty space. String = \")\n",
        "car_counter = 0\n",
        "counter = 0\n",
        "\n",
        "while(counter <= (len(occ_yest)-1)):\n",
        "    if ((occ_yest[counter] == occ_today[counter]) and occ_yest[counter] == \"c\"):\n",
        "        car_counter += 1\n",
        "    counter += 1\n",
        "    \n",
        "print(f\"The Number of parking spaces that were occupied on both days is {car_counter}.\")"
      ],
      "metadata": {
        "id": "jR77b1gVlBPw"
      },
      "execution_count": null,
      "outputs": []
    },
    {
      "cell_type": "markdown",
      "source": [
        "## COCI '16 Contest 1 #1 Tarifa\n",
        "\n",
        "Link: https://dmoj.ca/problem/coci16c1p1"
      ],
      "metadata": {
        "id": "TD8lA8NClg3E"
      }
    },
    {
      "cell_type": "markdown",
      "source": [
        "Pero has negotiated a Very Good data plan with his internet provider. The provider will let Pero use up X megabytes to surf the internet per month. Each megabyte that he doesn't spend in that month gets transferred to the next month and can still be spent. Of course, Pero can only spend the megabytes he actually has.\n",
        "\n",
        "If we know how many megabytes Pero has spent in each of the first N months of using the plan, determine how many megabytes Pero will have available in the N + 1 month of using the plan.\n",
        "\n",
        "**Input Specification**\n",
        "\n",
        "The first line of input contains the integer X(1 ≤ X ≤ 100).\n",
        "The second line of input contains the integer N(1 ≤ N ≤ 100). .\n",
        "Each of the following N lines contains an integer P_i(0 ≤ P_i ≤ 10000), the number of megabytes spent in each of the first N  months of using the plan. Numbers P_i will be such that Pero will never use more megabytes than he actually has.\n",
        "\n",
        "Output Specification\n",
        "The first and only line of output must contain the required value from the task."
      ],
      "metadata": {
        "id": "BQzcEDqgl5Ao"
      }
    },
    {
      "cell_type": "code",
      "source": [
        "print(\"This program calculates the number of available megabytes for a give data plan.\")\n",
        "\n",
        "data_max = int(input(\"Please enter the maximal number of megabytes according to the data plan. M = \"))\n",
        "numb_months = int(input(\"Please enter the number of months you have had this data plan. N = \"))\n",
        "data_usage = input(\"Please enter the data usage for each month. D = \")\n",
        "\n",
        "month_counter = 1\n",
        "available_data = 0\n",
        "leftover_data = 0\n",
        "leftover_data_month = 0\n",
        "\n",
        "while(month_counter <= int(numb_months)):\n",
        "  leftover_data_month = available_data + data_max - int(data_usage[month_counter-1])\n",
        "  available_data = leftover_data_month\n",
        "  month_counter = month_counter + 1\n",
        "\n",
        "print(available_data)"
      ],
      "metadata": {
        "id": "oNKDoRUpmxWH"
      },
      "execution_count": null,
      "outputs": []
    },
    {
      "cell_type": "markdown",
      "source": [
        "## WC '17 Contest 3 J3 - Uncrackable\n",
        "\n",
        "Woburn Challenge 2017-18 Round 3 - Junior Division\n",
        "\n",
        "Link: https://dmoj.ca/problem/wc17c3j3\n"
      ],
      "metadata": {
        "id": "WLLop7Lem7ao"
      }
    },
    {
      "cell_type": "markdown",
      "source": [
        "You'd like to register an account on an extremely entertaining website. You've already selected a username, but it seems that the requirements for choosing a password are quite strict, in order to completely protect your account from being hacked into. The password must be a string between 8 and 12 characters long (inclusive), such that every character is either a lowercase letter (a … z), uppercase letter (A … Z), or digit (0 … 9). Furthermore, it must contain at least three lowercase letters, at least two uppercase letters, and at least one digit.\n",
        "\n",
        "You've got a potential password in mind, a non-empty string made up of at most 100 characters, each of which is a lowercase letter, uppercase letter, or digit. Rather than entering the password into the site and risking rejection, you'd like to determine for yourself whether or not your password would validly satisfy all of the rules.\n",
        "\n",
        "**Input Specification**\n",
        "\n",
        "The first and only line of input consists of a single string, the password.\n",
        "\n",
        "**Output Specification**\n",
        "\n",
        "Output a single string, either Valid if the password is valid, or Invalid otherwise."
      ],
      "metadata": {
        "id": "ai8r9o8InJiZ"
      }
    },
    {
      "cell_type": "code",
      "source": [
        "print(\"This program will determine whether your chosen password complies with the following requirements.\\n-Length requirements: the password must be between 8-12 characters long\\n-Character requirements: the password can only contain lower- and uppercase letters of the English alphabet and digits\\n-Complexity requirements: the password has to contain at least 3 lowercase letters, 2 uppercase letters and 1 digit\")\n",
        "\n",
        "char_group1 = \"0123456789\"\n",
        "char_group2 = \"qwertzuiopasdfghjklyxcvbnm\"\n",
        "char_group3 = \"QWERTZUIOPASDFGHJKLYXCVBNM\"\n",
        "char_group_all = char_group1 + char_group2 + char_group3\n",
        "\n",
        "while True:\n",
        "    char_group1_comp = \"\"\n",
        "    char_group2_comp = \"\"\n",
        "    char_group3_comp = \"\"\n",
        "    char_group4_comp = \"\"\n",
        "    counter = 0\n",
        "    password = input(\"Please enter password: \")\n",
        "    \n",
        "    while(counter <= (len(password)-1)):\n",
        "     if(password[counter] in char_group1):\n",
        "      char_group1_comp = char_group1_comp + password[counter]\n",
        "     elif(password[counter] in char_group2):\n",
        "      char_group2_comp = char_group2_comp + password[counter]\n",
        "     elif(password[counter] in char_group3):\n",
        "      char_group3_comp = char_group3_comp + password[counter]\n",
        "     elif(password[counter] not in char_group_all):\n",
        "      char_group4_comp = char_group4_comp + password[counter]\n",
        "     counter = counter + 1\n",
        "    \n",
        "    if(len(password) not in range(8,13)):\n",
        "      print(\"Password does not meet the length requirements.\")\n",
        "    elif(len(char_group4_comp) > 0):\n",
        "      print(\"Password does not meet the character requirements.\")\n",
        "    elif((len(char_group1_comp) < 1) or (len(char_group2_comp) < 3) or (len(char_group3_comp) < 2)):\n",
        "      print(\"Password does not meet the complexity requirements.\")\n",
        "    else:\n",
        "      break\n",
        "\n",
        "print(\"Password meets all requirements.\")"
      ],
      "metadata": {
        "id": "g80S1AVqnj_5"
      },
      "execution_count": null,
      "outputs": []
    },
    {
      "cell_type": "markdown",
      "source": [
        "## COCI '18 Contest 3 #1 Magnus\n",
        "\n",
        "Link: https://dmoj.ca/problem/coci18c3p1"
      ],
      "metadata": {
        "id": "PNJqBDAEny8P"
      }
    },
    {
      "cell_type": "markdown",
      "source": [
        "Magnus lost a game of chess to Kile so he found comfort in competitive programming. Very soon, he heard of the iconic COCI competition and decided to try his luck there.\n",
        "\n",
        "He wrote a mail to Kile: \"Dear Kile, please, prepare me for COCI. Magnus\".\n",
        "\n",
        "Kile replied: \"You want to participate in COCI? All right, here's your warm-up task. A series of four consecutive letters of some word that make up the subword HONI (Croatian acronym for COCI) is called the HONI-block. I will send you the word of length N and you will throw out as many letters as you want (it might be none as well) so that in the end there are as many HONI-blocks as possible in the word. Kile\".\n",
        "\n",
        "Magnus was very worried and asked you, COCI competitive scene, for help. Help him determine the maximum number of HONI-blocks he can get in the final word.\n",
        "\n",
        "**Input**\n",
        "\n",
        "The first line contains a word of length N(1 ≤ N ≤ 100000), consisting of uppercase letters of the English alphabet.\n",
        "\n",
        "**Output**\n",
        "\n",
        "In the first and only line, print out the required number of HONI-blocks."
      ],
      "metadata": {
        "id": "4PVSZEkJoDAT"
      }
    },
    {
      "cell_type": "code",
      "source": [
        "word = input(\"Please enter a word: \").upper()\n",
        "\n",
        "while True:\n",
        "  word_container = \"\"\n",
        "  counter = 0\n",
        "\n",
        "  while(counter <= len(word)-1):\n",
        "    if(word[counter] != \"H\"):\n",
        "      counter = counter + 1\n",
        "    else:\n",
        "      word_container = word_container + word[counter]\n",
        "      counter = counter + 1\n",
        "\n",
        "      while(counter <= len(word)-1):\n",
        "        if(word[counter] != \"O\"):\n",
        "         counter = counter + 1\n",
        "        else:\n",
        "          word_container = word_container + word[counter]\n",
        "          counter = counter + 1\n",
        "\n",
        "          while(counter <= len(word)-1):\n",
        "           if(word[counter] != \"N\"):\n",
        "            counter = counter + 1\n",
        "           else:\n",
        "            word_container = word_container + word[counter]\n",
        "            counter = counter + 1\n",
        "\n",
        "            while(counter <= len(word)-1):\n",
        "              if(word[counter] != \"I\"):\n",
        "               counter = counter + 1\n",
        "              else:\n",
        "                word_container = word_container + word[counter]\n",
        "                counter = counter + 1\n",
        "\n",
        "                break\n",
        "            break\n",
        "          break\n",
        "  break\n",
        "\n",
        "result = len(word_container) // 4\n",
        "\n",
        "print(result)"
      ],
      "metadata": {
        "id": "mbCjzsI3ogiZ"
      },
      "execution_count": null,
      "outputs": []
    },
    {
      "cell_type": "markdown",
      "source": [
        "## CCC '11 S1 - English or French?\n",
        "\n",
        "Canadian Computing Competition: 2011 Stage 1, Senior #1\n",
        "\n",
        "Link: https://dmoj.ca/problem/ccc11s1"
      ],
      "metadata": {
        "id": "7pHrSrXGotbo"
      }
    },
    {
      "cell_type": "markdown",
      "source": [
        "You would like to do some experiments in natural language processing. Natural language processing (NLP) involves using machines to recognize human languages.\n",
        "\n",
        "Your first idea is to write a program that can distinguish English text from French text.\n",
        "\n",
        "After some analysis, you have concluded that a very reasonable way of distinguishing these two languages is to compare the occurrences of the letters t and T to the occurrences of the letters s and S. Specifically:\n",
        "\n",
        "if the given text has more t and T characters than s and S characters, we will say that it is (probably) English text;\n",
        "if the given text has more s and S characters than t and T characters, we will say that it is (probably) French text;\n",
        "if the number of t and T characters is the same as the number of s and S characters, we will say that it is (probably) French text.\n",
        "\n",
        "**Input Specification**\n",
        "\n",
        "The input will contain the number N(1 ≤ N ≤ 10000)  followed by N lines of text, where each line has at least one character and no more than 100 characters.\n",
        "\n",
        "**Output Specification**\n",
        "\n",
        "Your output will be one line. This line will either consist of the word English (indicating the text is probably English) or French (indicating the text is probably French)."
      ],
      "metadata": {
        "id": "IumfFCIkqWyE"
      }
    },
    {
      "cell_type": "code",
      "source": [
        "print(\"This program will try to determine whether a given text is English or French.\")\n",
        "\n",
        "text = input(\"Enter text: \").lower()\n",
        "counter = 0\n",
        "number_t = \"\"\n",
        "number_s = \"\"\n",
        "\n",
        "while(counter <= len(text)-1):\n",
        "  if text[counter] == \"t\":\n",
        "    number_t = number_t + text[counter]\n",
        "  elif text[counter] == \"s\":\n",
        "    number_s = number_s + text[counter]\n",
        "  counter = counter + 1\n",
        "  \n",
        "if(len(number_t) <= len(number_s)):\n",
        "  print(\"The entered text is probably French.\")\n",
        "else:\n",
        "  print(\"The entered text is probably English.\")"
      ],
      "metadata": {
        "id": "XTlphtL-qz9v"
      },
      "execution_count": null,
      "outputs": []
    },
    {
      "cell_type": "markdown",
      "source": [
        "## CCC '11 S2 - Multiple Choice\n",
        "\n",
        "Canadian Computing Competition: 2011 Stage 1, Senior #2\n",
        "\n",
        "Link: https://dmoj.ca/problem/ccc11s2"
      ],
      "metadata": {
        "id": "VkZHvnPRq6nq"
      }
    },
    {
      "cell_type": "markdown",
      "source": [
        "Your teacher likes to give multiple choice tests. One benefit of giving these tests is that they are easy to mark, given an answer key. The other benefit is that students believe they have a one-in-five chance of getting the correct answer, assuming the multiple choice possibilities are A, B, C, D or E.\n",
        "\n",
        "Write a program that your teacher can use to grade one multiple choice test.\n",
        "\n",
        "**Input Specification**\n",
        "\n",
        "The input will contain the number N(0 < N < 10000)  followed by 2N lines. The 2N lines are composed of N lines of student responses (with one of A, B, C, D or E on each line), followed by N lines of correct answers (with one of A, B, C, D or E on each line), in the same order as the student answered the questions (that is, if line i is the student response, then line N + i will contain the correct answer to that question).\n",
        "\n",
        "**Output Specification**\n",
        "\n",
        "Output the integer C(0 ≤ C ≤ N) which corresponds to the number of questions the student answered correctly."
      ],
      "metadata": {
        "id": "uooqlAakuxbJ"
      }
    },
    {
      "cell_type": "code",
      "source": [
        "print(\"This is a multiple choice test scoring program.\")\n",
        "\n",
        "num_ques = int(input(\"Pleae enter the number of questions: \"))\n",
        "ans_key = input(\"Please enter answer key: \")\n",
        "stud_resp = input(\"Please enter student response: \")\n",
        "\n",
        "counter = 0\n",
        "right_resp = 0\n",
        "\n",
        "while(counter <= num_ques):\n",
        "  if(ans_key[counter] == stud_resp[counter]):\n",
        "    right_resp = right_resp + 1\n",
        "  counter = counter + 1\n",
        "  \n",
        "print(right_resp)"
      ],
      "metadata": {
        "id": "DKe8dnXHvwvu"
      },
      "execution_count": null,
      "outputs": []
    },
    {
      "cell_type": "markdown",
      "source": [
        "## COCI '13 Contest 3 #1 Riječi\n",
        "\n",
        "Link: https://dmoj.ca/problem/coci13c3p1"
      ],
      "metadata": {
        "id": "-2ezlwV_v5p1"
      }
    },
    {
      "cell_type": "markdown",
      "source": [
        "One day, little Mirko came across a funny looking machine! It consisted of a very very large screen and a single button. When he found the machine, the screen displayed only the letter A. After he pressed the button, the letter changed to B. The next few times he pressed the button, the word transformed from B to BA, then to BAB, then to BABBA. When he saw this, Mirko realized that the machine alters the word in a way that all the letters B get transformed to BA and all the letters A get transformed to B.\n",
        "\n",
        "Amused by the machine, Mirko asked you a very difficult question! After K times of pressing the button, how much letters A and how much letters B will be displayed on the screen?\n",
        "\n",
        "**Input Specification**\n",
        "\n",
        "The first line of input contains the integer K(0 ≤ K ≤ 45), the number of times Mirko pressed the button.\n",
        "\n",
        "**Output Specification**\n",
        "\n",
        "The first and only line of output must contain two space-separated integers, the number of letters A and the number of letters B."
      ],
      "metadata": {
        "id": "5R2Rz8ONwKD9"
      }
    },
    {
      "cell_type": "code",
      "source": [
        "print(\"One-button-machine program: it turns all A's into B's and all B's into BA's. This program calculates the number of A's and B's in the sequence after pushing the button n-times.\")\n",
        "\n",
        "num_pushes = int(input(\"Please enter the number of times the button gets pushed: \"))\n",
        "\n",
        "init_seq_1 = \"A\"\n",
        "init_seq_2 = \"B\"\n",
        "placeholder = \"\"\n",
        "updated_seq = \"\"\n",
        "num_As = 0\n",
        "num_Bs = 0\n",
        "counter = 0\n",
        "\n",
        "for x in range(1,num_pushes):\n",
        "  updated_seq = init_seq_2 + init_seq_1\n",
        "  placeholder = init_seq_2\n",
        "  init_seq_2 = updated_seq\n",
        "  init_seq_1 = placeholder\n",
        "  \n",
        "for x in range(0,(len(updated_seq))):\n",
        "  if (updated_seq[x] == \"A\"):\n",
        "    num_As = num_As + 1\n",
        "  else:\n",
        "    num_Bs = num_Bs + 1\n",
        "  \n",
        "print(f\"Number of A's: {num_As}, number of B's: {num_Bs}.\")\n",
        "print(updated_seq)\n",
        "\n",
        "# Remark: The number of A's and B's will always be two consequitive Fibonacci numbers."
      ],
      "metadata": {
        "id": "1MEPxFcyzBqu"
      },
      "execution_count": null,
      "outputs": []
    },
    {
      "cell_type": "markdown",
      "source": [
        "## CCC '00 S1 - Slot Machines\n",
        "\n",
        "Canadian Computing Competition: 2000 Stage 1, Junior #3, Senior #1\n",
        "\n",
        "Link: https://dmoj.ca/problem/ccc00s1"
      ],
      "metadata": {
        "id": "mDlMiiiHzn00"
      }
    },
    {
      "cell_type": "markdown",
      "source": [
        "Martha takes a jar of quarters to the casino with the intention of becoming rich. She plays three machines in turn. Unknown to her, the machines are entirely predictable. Each play costs one quarter. The first machine pays 30 quarters every 35th time it is played; the second machine pays 60 quarters every 100th time it is played; the third pays 9 quarters every 10th time it is played.\n",
        "\n",
        "**Input Specification**\n",
        "\n",
        "Your program should take as input the number of quarters in Martha's jar (there will be at least one and fewer than 1000), and the number of times each machine has been played since it last paid.\n",
        "\n",
        "**Output Specification**\n",
        "\n",
        "Your program should output the number of times Martha plays until she goes broke."
      ],
      "metadata": {
        "id": "H6zepKQhz0Y8"
      }
    },
    {
      "cell_type": "code",
      "source": [
        "num_quart_in = int(input(\"Please enter the number of quarters: \"))\n",
        "machine1_rounds = int(input(\"Please enter the number of times the first machine has been played since it last paid: \"))\n",
        "machine2_rounds = int(input(\"Please enter the number of times the second machine has been played since it last paid: \"))\n",
        "machine3_rounds = int(input(\"Please enter the number of times the third machine has been played since it last paid: \"))\n",
        "\n",
        "counter = 0\n",
        "num_quart_upd = num_quart_in\n",
        "\n",
        "while(num_quart_upd > 0):\n",
        "  \n",
        "    if (((machine1_rounds + counter) % 35) == 0):\n",
        "        num_quart_upd = num_quart_upd - 1 + 30\n",
        "    else:\n",
        "        num_quart_upd = num_quart_upd - 1\n",
        "    counter = counter + 1\n",
        "  \n",
        "    if (((machine2_rounds + counter) % 100) == 0):\n",
        "        num_quart_upd = num_quart_upd - 1 + 60\n",
        "    else:\n",
        "        num_quart_upd = num_quart_upd - 1\n",
        "    counter = counter + 1\n",
        "\n",
        "    if (((machine3_rounds + counter) % 10) == 0):\n",
        "        num_quart_upd = num_quart_upd - 1 + 9\n",
        "    else:\n",
        "        num_quart_upd = num_quart_upd - 1\n",
        "    counter = counter + 1\n",
        "\n",
        "print(f\"Martha can play {counter} times before going broke.\")"
      ],
      "metadata": {
        "id": "arSXX33P0WYh"
      },
      "execution_count": null,
      "outputs": []
    },
    {
      "cell_type": "markdown",
      "source": [
        "## CCC '08 J2 - Do the Shuffle\n",
        "\n",
        "Canadian Computing Competition: 2008 Stage 1, Junior #2\n",
        "\n",
        "Link: https://dmoj.ca/problem/ccc08j2"
      ],
      "metadata": {
        "id": "yeCwSulg0aot"
      }
    },
    {
      "cell_type": "markdown",
      "source": [
        "Those tiny music machines that play your digital music are really computers that keep track of and play music files. The CCC music player (C3MP) is currently in development and will be hitting the stores soon! In this problem, you have to simulate a C3MP.\n",
        "\n",
        "The C3MP music player will hold 5 songs in memory, whose titles will always be \"A\", \"B\", \"C\", \"D\" and \"E\". The C3MP also keeps track of a playlist, which is an ordering of all the songs. The C3MP has 4 buttons that the user will press to rearrange the playlist and play the songs.\n",
        "\n",
        "Initially, the C3MP playlist is \"A, B, C, D, E\". The 4 control buttons do the following:\n",
        "\n",
        "*   Button 1: move the first song of the playlist to the end of the playlist.\n",
        "For example: \"A, B, C, D, E\" will change to \"B, C, D, E, A\".\n",
        "\n",
        "*   Button 2: move the last song of the playlist to the start of the playlist.\n",
        "For example, \"A, B, C, D, E\" will change to \"E, A, B, C, D\".\n",
        "\n",
        "*   Button 3: swap the first two songs of the playlist.\n",
        "For example, \"A, B, C, D, E\" will change to \"B, A, C, D, E\".\n",
        "\n",
        "*   Button 4: stop rearranging songs and output the playlist.\n",
        "\n",
        "You need to write a program to simulate a CCC music player. Your program should repeatedly ask for two positive integers b and n. Here b represents the button number that the user wants to press, 1 ≤ b ≤ 4, and n represents the number of times that the user wants to press button b. You can assume that n always satisfies 1 ≤ n ≤ 10.\n",
        "\n",
        "\n",
        "The input will always finish with the pair of inputs (b = 4, n = 1) when this happens, you should print the order of songs in the current playlist and your program should end. You can assume that the user will only ever press button 4 once."
      ],
      "metadata": {
        "id": "2BII64gh0v_y"
      }
    },
    {
      "cell_type": "code",
      "source": [
        "init_seq = \"ABCDE\"\n",
        "\n",
        "for x in range(1,5):\n",
        "  press = int(input(\"Please enter the number of the first button = \"))\n",
        "  freq = int(input(\"Please enter the number of times the button gets pressed = \"))\n",
        "  \n",
        "  counter = 1\n",
        "  if (press == 4):\n",
        "    break\n",
        "    \n",
        "  else:\n",
        "      while(counter <= freq):\n",
        "          if (press == 1):\n",
        "            init_seq = init_seq[1:] + init_seq[0]\n",
        "          if (press == 2):\n",
        "             init_seq = init_seq[4] + init_seq[:-1]\n",
        "          if (press == 3):\n",
        "             init_seq = init_seq[1] + init_seq[0] + init_seq[2:]\n",
        "          counter = counter + 1\n",
        "        \n",
        "print(init_seq)"
      ],
      "metadata": {
        "id": "tu7HryyA168t"
      },
      "execution_count": null,
      "outputs": []
    },
    {
      "cell_type": "markdown",
      "source": [
        "## CCC '06 S2 - Attack of the CipherTexts\n",
        "\n",
        "Canadian Computing Competition: 2006 Stage 1, Senior #2\n",
        "\n",
        "Link: https://dmoj.ca/problem/ccc06s2"
      ],
      "metadata": {
        "id": "5jSrBsu019ts"
      }
    },
    {
      "cell_type": "markdown",
      "source": [
        "Ruby is a code-breaker. She knows that the very bad people (Mr. X and Mr. Z) are sending secret messages about very bad things to each other.\n",
        "\n",
        "However, Ruby has managed to intercept a plaintext message and the corresponding ciphertext message. By plaintext, we mean the message before it was encrypted (i.e., readable English sentences), and by ciphertext, we mean the message after it was encrypted (i.e., gibberish). To encrypt a message, each letter is changed to a new letter, so that if you read the ciphertext message, it is not obvious what the plaintext message is.\n",
        "\n",
        "However, Ruby being the outstanding code-breaker she is, knows the algorithm that Mr. X and Mr. Z use. She knows they simply map one letter to another (possibly different) letter when they encrypt their messages. Of course, this map must be \"one-to-one\", meaning that each plaintext letter must correspond to exactly one ciphertext letter, as well as \"onto\", meaning that each ciphertext letter has exactly one corresponding plaintext letter.\n",
        "\n",
        "Your job is to automate Ruby's codebreaking and help save the world.\n",
        "\n",
        "**Input Specification**\n",
        "\n",
        "The input consists of 3 strings, with each string on a separate line. The first string is the plaintext message which Ruby knows about. The second string is the ciphertext message which corresponds to the plaintext message. The third string is another ciphertext message. You may assume that all strings have length of at least 1 character and at most 80 characters. You can also assume that there are only 27 valid characters: the uppercase letters (A through Z) as well as the space character ( ). That is, there will be no punctuation, lowercase letters, or special characters (like ! or @) in either the plaintext or ciphertext messages.\n",
        "\n",
        "**Output Specification**\n",
        "\n",
        "The output is a (plaintext) string which corresponds to the second ciphertext input. It may not be possible to determine each character of the second ciphertext string, however. If this is the case, the output should have a period (.) character for those letters which cannot be determined."
      ],
      "metadata": {
        "id": "dbLE_fwJ2QGC"
      }
    },
    {
      "cell_type": "code",
      "source": [
        "sentence = input(\"Please enter encoded text: \").lower()\n",
        "\n",
        "vowels = \"aeiou\"\n",
        "decoded = \"\"\n",
        "counter = 0\n",
        "\n",
        "while (counter <= len(sentence)-1):\n",
        "  \n",
        "    if (sentence[counter] in vowels):\n",
        "     decoded = decoded + sentence[counter]\n",
        "     counter = counter + 3\n",
        "    \n",
        "    else:\n",
        "      decoded = decoded + sentence[counter]\n",
        "      counter = counter + 1\n",
        "\n",
        "print(f\"Decoded text: {decoded}\")"
      ],
      "metadata": {
        "id": "YGSKKOwi2zkh"
      },
      "execution_count": null,
      "outputs": []
    },
    {
      "cell_type": "markdown",
      "source": [
        "## CCC '20 J2 - Epidemiology\n",
        "\n",
        "Canadian Computing Competition: 2020 Stage 1, Junior #2\n",
        "\n",
        "Link: https://dmoj.ca/problem/ccc20j2"
      ],
      "metadata": {
        "id": "WU42JpgK203R"
      }
    },
    {
      "cell_type": "markdown",
      "source": [
        "People who study epidemiology use models to analyze the spread of disease. In this problem, we use a simple model.\n",
        "\n",
        "When a person has a disease, they infect exactly R other people but only on the very next day. No person is infected more than once. We want to determine when a total of more than P people have had the disease.\n",
        "\n",
        "*(This problem was designed before the current coronavirus outbreak, and we acknowledge the distress currently being experienced by many people worldwide because of this and other diseases. We hope that including this problem at this time highlights the important roles that computer science and mathematics play in solving real-world problems.)*\n",
        "\n",
        "**Input Specification**\n",
        "\n",
        "There are three lines of input. Each line contains one positive integer. The first line contains the value of P. The second line contains N, the number of people who have the disease on Day 0. The third line contains the value of R. Assume that P ≤ 10^7 and N ≤ P and R ≤ 10.\n",
        "\n",
        "**Output Specification**\n",
        "\n",
        "Output the number of the first day on which the total number of people who have had the disease is greater than P."
      ],
      "metadata": {
        "id": "y0wnz41i3E93"
      }
    },
    {
      "cell_type": "code",
      "source": [
        "ceiling = int(input(\"Please enter the number of infected persons: \"))\n",
        "init_numb = int(input(\"Please enter the number of infected persons on day 0: \"))\n",
        "\n",
        "R = int(input(\"Please enter the number of persons one person infects: \"))\n",
        "\n",
        "counter = 0\n",
        "total_numb = init_numb\n",
        "actual_numb = init_numb\n",
        "\n",
        "while (total_numb <= ceiling):\n",
        "  actual_numb = (actual_numb * R)\n",
        "  total_numb = total_numb + actual_numb\n",
        "  counter = counter + 1\n",
        "  \n",
        "print(counter)"
      ],
      "metadata": {
        "id": "ESJXn6Vf31Nn"
      },
      "execution_count": null,
      "outputs": []
    },
    {
      "cell_type": "markdown",
      "source": [
        "## CCC '02 J2 - AmeriCanadian\n",
        "\n",
        "Canadian Computing Competition: 2002 Stage 1, Junior #2\n",
        "\n",
        "Link: https://dmoj.ca/problem/ccc02j2\n"
      ],
      "metadata": {
        "id": "HyhA58e3366e"
      }
    },
    {
      "cell_type": "markdown",
      "source": [
        "Americans spell differently from Canadians. Americans write neighbor and color while Canadians write neighbour and colour. Write a program to help Americans translate to Canadian.\n",
        "\n",
        "Your program should interact with the user in the following way. The user should type a word (not to exceed 64 letters) and if the word appears to use American spelling, the program should echo the Canadian spelling for the same word. If the word does not appear to use American spelling, it should be output without change. When the user types quit! the program should terminate.\n",
        "\n",
        "The rules for detecting American spelling are quite naive: If the word has more than four letters and has a suffix consisting of a consonant followed by or, you may assume it is an American spelling, and that the equivalent Canadian spelling replaces the or by our. Note: you should treat the letter y as a vowel."
      ],
      "metadata": {
        "id": "Gi88QvP54rgj"
      }
    },
    {
      "cell_type": "code",
      "source": [
        "vowels = \"aieou\"\n",
        "echo = \"\"\n",
        "\n",
        "while True:\n",
        "  word = input(\"Please enter a word: \")\n",
        "  if (word == \"quit!\"):\n",
        "   break\n",
        "    \n",
        "  if (word[-2:] == \"or\" and len(word) > 4 and (word[-3] not in vowels)):\n",
        "   echo = word[:-3] + \"our\"\n",
        "  else:\n",
        "    echo = word\n",
        "    \n",
        "  print(echo)"
      ],
      "metadata": {
        "id": "-PaL1_5R4xtU"
      },
      "execution_count": null,
      "outputs": []
    },
    {
      "cell_type": "markdown",
      "source": [
        "## CCC '18 S1 - Voronoi Villages\n",
        "\n",
        "Canadian Computing Competition: 2018 Stage 1, Senior #1\n",
        "\n",
        "Link: https://dmoj.ca/problem/ccc18s1"
      ],
      "metadata": {
        "id": "gljRxuUO40Ug"
      }
    },
    {
      "cell_type": "markdown",
      "source": [
        "In the country of Voronoi, there are N villages, located at distinct points on a straight road. Each of these villages will be represented by an integer position along this road.\n",
        "\n",
        "Each village defines its neighbourhood as all points along the road which are closer to it than to any other village. A point which is equally close to two distinct villages A and B is in the neighbourhood of A and also in the neighbourhood of B.\n",
        "\n",
        "Each neighbourhood has a size which is the difference between the minimum (leftmost) point in its neighbourhood and the maximum (rightmost) point in its neighbourhood.\n",
        "\n",
        "The neighbourhoods of the leftmost and rightmost villages are defined to be of infinite size, while all other neighbourhoods are finite in size.\n",
        "\n",
        "Determine the smallest size of any of the neighbourhoods (with exactly 1 digit after the decimal point).\n",
        "\n",
        "**Input Specification**\n",
        "\n",
        "The first line will contain the number N(3 ≤ N ≤ 100), the number of villages. On the next N lines there will be one integer per line, where the i-th line will contain the integer V_i, the position of the i-th village (-1000000000 ≤ V_i ≤ 1000000000). All villages are at distinct positions.\n",
        "\n",
        "**Output Specification**\n",
        "\n",
        "Output the smallest neighbourhood size with exactly one digit after the decimal point."
      ],
      "metadata": {
        "id": "WtziLY075Yq4"
      }
    },
    {
      "cell_type": "code",
      "source": [
        "#This is DMOJ problem ccc18s1.\n",
        "\n",
        "num_vill = int(input(\"Please enter the number of villages = \"))\n",
        "counter = 1\n",
        "list = []\n",
        "\n",
        "while(counter <= num_vill):\n",
        "  value = int(input(\"Please enter position = \"))\n",
        "  list.append(value)\n",
        "  list.sort()\n",
        "  counter = counter + 1\n",
        "  \n",
        "counter = 1\n",
        "hoods = []\n",
        "\n",
        "while(counter <= (len(list) - 2)):\n",
        "  element = (list[counter + 1] - list[counter - 1]) / 2\n",
        "  hoods.append(element)\n",
        "  hoods.sort()\n",
        "  counter = counter + 1\n",
        "\n",
        "print(hoods[0])"
      ],
      "metadata": {
        "id": "u4sHhCZv6tFu"
      },
      "execution_count": null,
      "outputs": []
    },
    {
      "cell_type": "markdown",
      "source": [
        "## ECOO '17 R1 P1 - Munch 'n' Brunch\n",
        "\n",
        "Author: Andrew Seidel\n",
        "\n",
        "Link: https://dmoj.ca/problem/ecoo17r1p1"
      ],
      "metadata": {
        "id": "MMgmJta66v1E"
      }
    },
    {
      "cell_type": "markdown",
      "source": [
        "Student council is looking to organize a school brunch, where the proceeds will be put towards a year-end trip for the graduating class. The council members decide that the price depends on how many years you have been at the school. For someone who has been at the school for one year (Y_1), the price will be ```$```12, for someone who has been at the school for two years (Y_2), the price will be ```$```10, the three-year (Y_3) price will be ```$```7, and the price for someone who has been there all four years (Y_4) will be ```$```5.\n",
        "\n",
        "Out of all the proceeds,  can be saved towards the year-end trip, as the other  is spent on the various costs to run the brunch. Given the following input data, calculate whether or not the council will need to raise additional funds.\n",
        "\n",
        "**Input Specification**\n",
        "\n",
        "The input contains 10 trips, at 3 lines of data per trip.\n",
        "\n",
        "*   For each of the trips, the first line will show the cost of the trip as an integer (```$```50 to ```$```50000).\n",
        "*   The next line contains four floating point numbers Y_1, Y_2, Y_3, Y_4  (0 ≤ Y_1, Y_2, Y_3, Y_4 ≤ 1 and Y_1 + Y_2 + Y_3 + Y_4 = 1) representing the percentages of the total number of students from years 1 through 4 respectively.\n",
        "*   The third line contains a single number N , which contains the total number of students attending the brunch (4 ≤ N ≤ 2000).\n",
        "\n",
        "Note: You cannot have less than a whole person (e.g., 1.8 people is the same as 1 person). Any missing or extra people should be removed from or added to the group with the highest percentage of attendees. There will always be exactly one group with the highest percentage of attendees.\n",
        "\n",
        "**Output Specification**\n",
        "\n",
        "Output YES if the student council needs to find other funding, and NO if the council has raised sufficient funds."
      ],
      "metadata": {
        "id": "zAsIZweN7GJt"
      }
    },
    {
      "cell_type": "code",
      "source": [
        "yes_no = []\n",
        "\n",
        "for x in range(1,3):\n",
        "  costs = float(input(\"Please enter the costs of the trip: \"))\n",
        "  perc = input(\"Please enter the percentages of stundents by school year ascending, with spaces in between: \")\n",
        "  total = int(input(\"Please enter the total number of students: \"))\n",
        "\n",
        "  perc_list = perc.split()\n",
        "  stud_contr = []\n",
        "  dollar_list = [12, 10, 7, 5]\n",
        "\n",
        "  for x in range(0,len(perc_list)):\n",
        "    perc_list[x] = float(perc_list[x])\n",
        "    stud_contr.append(perc_list[x] * dollar_list[x] * total)\n",
        "\n",
        "  if (sum(stud_contr) >= costs):\n",
        "    yes_no.append(\"No\")\n",
        "  \n",
        "  else:\n",
        "    yes_no.append(\"Yes\")\n",
        "\n",
        "for x in yes_no:\n",
        "  print(x)"
      ],
      "metadata": {
        "id": "TIHGt8VZ-Zkf"
      },
      "execution_count": null,
      "outputs": []
    },
    {
      "cell_type": "markdown",
      "source": [
        "## ECOO '17 R3 P1 - Baker Brie\n",
        "\n",
        "Author: Andrew Seidel\n",
        "\n",
        "Link: https://dmoj.ca/problem/ecoo17r3p1"
      ],
      "metadata": {
        "id": "gSIP-JQx-ej1"
      }
    },
    {
      "cell_type": "markdown",
      "source": [
        "*Baker Brie* is holding a celebration for being in business for 13 years, and having opened its 130th franchise. *Baker Brie* wants to congratulate franchises that have performed well throughout the years. *Baker Brie* also wants to congratulate everyone for performing well on certain days of the year!\n",
        "\n",
        "*Baker Brie* wants to offer congratulations as follows:\n",
        "\n",
        "*   If, in a single day, all franchises combined sell an amount of baked goods that is equivalent to a multiple of a baker's dozen (13), then all franchises will receive a bonus.\n",
        "*   If an individual franchise, throughout its entire existence, has sold an amount of baked goods that is equivalent to a multiple of a baker's dozen (13), then that franchise will receive a bonus.\n",
        "\n",
        "**Input Specification**\n",
        "\n",
        "The input will contain 10 datasets.\n",
        "\n",
        "On the first line of each dataset there will be the values F and D separated by a space where F(4 ≤ F ≤ 130) represents the number of franchises that *Baker Brie* has, and D(2 ≤ F ≤ 4745)  represents the number of days of information.\n",
        "\n",
        "On the next D lines, there will be F integers separated by spaces (each in the range 1 through 13000), such that the i-th integer on line j represents the number of baked goods sold by franchise i on day j.\n",
        "\n",
        "**Output Specification**\n",
        "\n",
        "You must determine, both for each day (across all franchises) and for each franchise (across all days), whether or not the number of baked goods sold is a multiple of 13. If it is, you need to track how many baker's dozens were sold. Report the total number of baker's dozens as a single integer on its own line."
      ],
      "metadata": {
        "id": "zGXEDa5d-t-S"
      }
    },
    {
      "cell_type": "code",
      "source": [
        "#This is DMOJ problem ecoo17r3p1.\n",
        "days = input(\"Please enter the number of franchises and the numer of days, separated by a space: \").split()\n",
        "\n",
        "grid = []\n",
        "daily_bonus = 0\n",
        "shop_bonus = 0\n",
        "\n",
        "for x in range(len(days)):\n",
        "  days[x] = int(days[x])\n",
        "\n",
        "for x in range(1,(days[1]+1)):\n",
        "  row = input(\"Please enter the sales for the actual day, separated by spaces = \").split()\n",
        "    \n",
        "  for x in range(len(row)):\n",
        "    row[x] = int(row[x])\n",
        "    \n",
        "  grid.append(row)\n",
        "\n",
        "for x in range(len(grid)):\n",
        "  if (sum(grid[x]) % 13 == 0):\n",
        "    daily_bonus = daily_bonus + (sum(grid[x]) / 13)\n",
        "\n",
        "for x in range(0,(days[0])):\n",
        "\n",
        "  column_total = 0\n",
        "  \n",
        "  for y in range(0,len(grid)):\n",
        "  \n",
        "    column_total = column_total + grid[y][x]\n",
        "        \n",
        "  if (column_total % 13 == 0):\n",
        "    shop_bonus = shop_bonus + (column_total / 13)\n",
        "\n",
        "total_bonus = daily_bonus + shop_bonus\n",
        "\n",
        "print(total_bonus)\n",
        "print(daily_bonus)\n",
        "print(shop_bonus)"
      ],
      "metadata": {
        "id": "FAMbUAiHACM7"
      },
      "execution_count": null,
      "outputs": []
    },
    {
      "cell_type": "markdown",
      "source": [
        "## CCC '07 J3 - Deal or No Deal Calculator\n",
        "\n",
        "Canadian Computing Competition: 2007 Stage 1, Junior #3\n",
        "\n",
        "Link: https://dmoj.ca/problem/ccc07j3"
      ],
      "metadata": {
        "id": "xEC32UU-AF6-"
      }
    },
    {
      "cell_type": "markdown",
      "source": [
        "Deal or No Deal™ is a game show on NBC.\n",
        "\n",
        "In the CCC version of the game, there are  possible dollar amounts: ```$```100, ```$```500, ```$```1000, ```$```5000, ```$```10000, ```$```25000, ```$```50000, ```$```100000, ```$```500000,  ```$```1000000 sealed in imaginary briefcases. These dollar amounts are numbered 1-10  (i.e. 1 → ```$```100 , 2 → ```$```500, 3 → ```$```1000, ..., 10 → ```$```1000000). Before the game starts the contestant will have chosen one of the briefcases as his/hers to possibly keep. During the game, some of the ten possible dollar amounts have been eliminated from the game because the contestant has selected some of the other briefcases and revealed the amounts inside.\n",
        "\n",
        "At some point, the contestant will stop opening briefcases, and a \"Banker\" will offer the contestant cash in exchange for what might be contained in his/her chosen briefcase. Then the contestant is asked: \"Deal or No Deal?\".\n",
        "\n",
        "Write a program that helps a player decide if he/she should choose \"deal\" or \"no deal\", by calculating the average of the remaining amounts (i.e., all unopened briefcases, including his/her \"own\" briefcase), and comparing that value to the \"Banker's\" offer. If the offer is higher than the average, then the player should \"deal\". Otherwise, the player should say \"no deal\".\n",
        "\n",
        "**Input Specification**\n",
        "\n",
        "The user must input a number n(1 ≤ n ≤ 10) which indicates how many cases have been opened so far, followed by a list of integers between 1 and 10 representing the values in the game that have been eliminated, followed by the \"Banker's\" offer. For example: 3 2 5 10 300 indicates that briefcases containing ```$```500, ```$```10000, and ```$```1000000 have been eliminated and the Banker's offer is ```$```300. You may assume that no duplicate case numbers are entered for the eliminated values, and you may assume that the \"Banker's\" offer is an integer greater than 10.\n",
        "\n",
        "**Output Specification**\n",
        "\n",
        "The program will print out one of two statements: deal or no deal."
      ],
      "metadata": {
        "id": "UUyBsyy7AYF0"
      }
    },
    {
      "cell_type": "code",
      "source": [
        "#This is DMOJ problem ccc07j3.\n",
        "\n",
        "opened_num = int(input(\"Please enter the number of briefcases that have been opened so far: \"))\n",
        "\n",
        "values_list = [100, 500, 1000, 5000, 10000, 25000, 50000, 100000, 500000, 1000000]\n",
        "\n",
        "for x in range(opened_num):\n",
        "  opened = int(input(\"Please enter the values that have been eliminated: \"))\n",
        "  values_list[(opened - 1)] = 0\n",
        "  \n",
        "average = sum(values_list) / (10 - opened_num)\n",
        "\n",
        "offer = int(input(\"Please enter the Banker's offer: \"))\n",
        "\n",
        "if average >= offer:\n",
        "  print(\"No deal\")\n",
        "else:\n",
        "  print(\"Deal\")"
      ],
      "metadata": {
        "id": "O99ncEFJCuFZ"
      },
      "execution_count": null,
      "outputs": []
    },
    {
      "cell_type": "markdown",
      "source": [
        "## COCI '17 Contest 1 #1 Cezar\n",
        "\n",
        "Link: https://dmoj.ca/problem/coci17c1p1"
      ],
      "metadata": {
        "id": "b8gOQuUcCwW9"
      }
    },
    {
      "cell_type": "markdown",
      "source": [
        "Little Caesar likes card games. Every time he comes to Zagreb, he plays blackjack, the famous card game, with his friends.\n",
        "\n",
        "In this game, the player draws cards while the sum of the cards in his hand is less than or equal to 21 or until he says DOSTA (Croatian for \"STOP\").\n",
        "\n",
        "At the beginning of the game, there are 52 cards in the deck, thirteen ranks of each of the four suits. The card ranks are two, three, …, ten, Jack, Queen, King and Ace. The card values are the following: the cards with numbers on them are worth that number (e.g., \"nine\" is 9), the cards with pictures (Jack, Queen, and King) are worth 10, whereas the Ace is worth 11.\n",
        "\n",
        "Caesar has found himself in an interesting situation. During the game, he already drew N cards whose sum is less than or equal to 21 and is now having second thoughts about drawing one more card or not. Let's assume X is the difference from the sum of the cards so far to 21. Everybody knows that you don't draw a card if the number of the remaining cards in the deck whose value is greater than X is greater than or equal to the number of the remaining cards in the deck whose value is less than or equal to X.\n",
        "\n",
        "Since Caesar is having a difficult time calculating whether he needs to draw another card or not, he's asking you to do it for him.\n",
        "\n",
        "**Input Specification**\n",
        "\n",
        "The first line of input contains the positive integer N(1 ≤ N ≤ 52), the number of cards Caesar has drawn so far.\n",
        "\n",
        "Each of the following N lines contains a single positive integer, the value of the i-th card Caesar drew.\n",
        "\n",
        "**Output Specification**\n",
        "\n",
        "If Caesar should draw another card, output VUCI (Croatian for \"DRAW\"), otherwise output DOSTA (Croatian for \"STOP\")."
      ],
      "metadata": {
        "id": "BU4xEoABDBws"
      }
    },
    {
      "cell_type": "code",
      "source": [
        "num_drawn = int(input(\"Please enter the number of cards that have been drawn so far: \"))\n",
        "\n",
        "deck_values = [2, 3, 4, 5, 6, 7, 8, 9, 10, 10, 10, 10, 11] * 4\n",
        "overall_value = 0\n",
        "\n",
        "for x in range(num_drawn):\n",
        "  card_value = int(input(\"Please enter the value of the actual card: \"))\n",
        "  \n",
        "  overall_value = overall_value + card_value\n",
        "  if overall_value > 21:\n",
        "    print(\"The values of the cards drawn up until now add up to a number that is greater than 21. Game over.\")\n",
        "    quit()\n",
        "  \n",
        "  deck_values.remove(card_value)\n",
        "\n",
        "difference = 21 - overall_value\n",
        "\n",
        "counter_small = 0\n",
        "counter_great = 0\n",
        "\n",
        "for x in range(len(values)):\n",
        "  if values[x] <= difference:\n",
        "    counter_small = counter_small + 1\n",
        "  elif values[x] > difference:\n",
        "    counter_great = counter_great + 1\n",
        "    \n",
        "if counter_small <= counter_great:\n",
        "  print(\"Stop\")\n",
        "else:\n",
        "  print(\"Draw\")"
      ],
      "metadata": {
        "id": "_Q3RHJMCEPtf"
      },
      "execution_count": null,
      "outputs": []
    },
    {
      "cell_type": "markdown",
      "source": [
        "## ECOO '19 R1 P1 - Free Shirts\n",
        "\n",
        "Link: https://dmoj.ca/problem/ecoo19r1p1\n"
      ],
      "metadata": {
        "id": "u8KX2TKFEV8X"
      }
    },
    {
      "cell_type": "markdown",
      "source": [
        "Throughout the year, there are many programming events that students can attend to meet like-minded individuals, hone their skills and, most importantly, get a free t-shirt.\n",
        "\n",
        "Ian is an avid attender of these events because he hates doing laundry. Ian only does his laundry when all his shirts are dirty, so this constant influx of shirts allows him to put off laundry for longer periods of time.\n",
        "\n",
        "Ian starts with N clean shirts. Ian wears one clean shirt every day, after which it becomes dirty. If at the beginning of a day (before any events) Ian only has dirty shirts, then he will do the laundry, which makes all his shirts clean again. If Ian goes to an event, then he will receive one clean shirt.\n",
        "\n",
        "Given the initial number of shirts that Ian has and the schedule of events for the next D days, how many times will Ian do the laundry in the next D days?\n",
        "\n",
        "**Input Specification**\n",
        "\n",
        "The input contains 10 datasets. Each dataset begins with three integers N, M,  D(1 ≤ N, M ≤ 100, 1 ≤ D ≤ 1000), the initial number of shirts that Ian has, the number of events coming up, and the number of days, respectively.\n",
        "\n",
        "The next line contains M integers A_i(1 ≤ A_i ≤ D), the days on which there are events. There may be multiple events in a single day.\n",
        "\n",
        "**Output Specification**\n",
        "\n",
        "For each dataset, output the number of times that Ian will do the laundry in the next D days."
      ],
      "metadata": {
        "id": "MNuHCG__Emw4"
      }
    },
    {
      "cell_type": "code",
      "source": [
        "# This is DMOJ problem ecoo19r1p1, Free Shirts (slightly altered, with only 3 datasets)\n",
        "\n",
        "# N = Number of initially clean T-shirts\n",
        "# M = Number of events\n",
        "# D = Number of days\n",
        "\n",
        "N_M_D_overall = []\n",
        "event_days_overall = []\n",
        "\n",
        "for x in range(3):\n",
        "  N_M_D = input(\"Please enter the number of clean T-shirts at the beginning, the number of events coming up and the number of days, separated by spaces: \")\n",
        "  \n",
        "  N_M_D = N_M_D.split()\n",
        "  \n",
        "  for x in range(len(N_M_D)):\n",
        "    N_M_D[x] = int(N_M_D[x])\n",
        "    \n",
        "  N_M_D_overall.append(N_M_D)\n",
        "\n",
        "  event_days = input(\"Please enter the days on which there are events: \")\n",
        "  \n",
        "  event_days = event_days.split()\n",
        "\n",
        "  for x in range(len(event_days)):\n",
        "    event_days[x] = int(event_days[x])\n",
        "  \n",
        "  event_days.sort()\n",
        "\n",
        "  event_days_overall.append(event_days)\n",
        "\n",
        "for x in range(3):\n",
        "  \n",
        "  N = N_M_D_overall[x][0]\n",
        "  M = N_M_D_overall[x][1]\n",
        "  D = N_M_D_overall[x][2]\n",
        "  L = 0                                     #Laundry counter\n",
        "  extra_T_shirts = 0\n",
        "  event_days = event_days_overall[x]\n",
        "\n",
        "  for y in range(D):\n",
        "    if(N == 0):\n",
        "      N = N_M_D_overall[x][0] + extra_T_shirts\n",
        "      L = L + 1\n",
        " \n",
        "    if (y + 1) in event_days:\n",
        "        N = N + 1\n",
        "        extra_T_shirts = extra_T_shirts + 1\n",
        "    \n",
        "    N = N - 1\n",
        "\n",
        "  print(f\"Number of Laundries: {L}\")"
      ],
      "metadata": {
        "id": "8E0FhFacFbWr"
      },
      "execution_count": null,
      "outputs": []
    },
    {
      "cell_type": "markdown",
      "source": [
        "## CCC '13 S1 - From 1987 to 2013\n",
        "\n",
        "Canadian Computing Competition: 2013 Stage 1, Junior #3, Senior #1\n",
        "\n",
        "Link: https://dmoj.ca/problem/ccc13s1"
      ],
      "metadata": {
        "id": "Pwuk9dRQFiiI"
      }
    },
    {
      "cell_type": "markdown",
      "source": [
        "You might be surprised to know that 2013 is the first year since 1987 with distinct digits. The years 2014, 2015, 2016, 2017, 2018, 2019 each have distinct digits. 2012 does not have distinct digits, since the digit 2 is repeated.\n",
        "\n",
        "Given a year, what is the next year with distinct digits?\n",
        "\n",
        "**Input Specification**\n",
        "\n",
        "The input consists of one integer Y (0 ≤ Y ≤ 10000), representing the starting year.\n",
        "\n",
        "**Output Specification**\n",
        "\n",
        "The output will be the single integer D, which is the next year after Y with distinct digits."
      ],
      "metadata": {
        "id": "pq2PxRMhF4_h"
      }
    },
    {
      "cell_type": "code",
      "source": [
        "# FUNCTIONS FUNCTIONS FUNCTIONS FUNCTIONS FUNCTIONS FUNCTIONS\n",
        "\n",
        "def checkInt(str):\n",
        "    try:\n",
        "        int(str)\n",
        "        return True\n",
        "    except ValueError:\n",
        "        return False\n",
        "\n",
        "def isuniqueyear(x):\n",
        "\n",
        "  total = 0\n",
        "\n",
        "  for i in range(len(str(x))):\n",
        "    y = str(x).count(str(x)[i])\n",
        "    total = total + y\n",
        "  \n",
        "  if total == len(str(x)):\n",
        "    return True\n",
        "\n",
        "  else:\n",
        "    return False\n",
        "    \n",
        "# FUNCTIONS FUNCTIONS FUNCTIONS FUNCTIONS FUNCTIONS FUNCTIONS\n",
        "    \n",
        "print(\"This program calculates, for a given year (0-10000), the next year with unique digits.\")\n",
        "\n",
        "while True:\n",
        "  \n",
        "  starting_year = input(\"Please enter the starting year: \")\n",
        "  \n",
        "  if checkInt(starting_year) == True:\n",
        "    starting_year = int(starting_year)\n",
        "    \n",
        "    if (starting_year < 0 or starting_year > 10000):\n",
        "      print(\"Invalid interval.\")\n",
        "    else:\n",
        "      break\n",
        "      \n",
        "  else:\n",
        "    print(\"Invalid year\")\n",
        "    \n",
        "actual_year = starting_year + 1\n",
        "\n",
        "while(isuniqueyear(actual_year) == False):\n",
        "  actual_year = actual_year + 1\n",
        "\n",
        "print(actual_year)"
      ],
      "metadata": {
        "id": "RjTiCTS9GKKP"
      },
      "execution_count": null,
      "outputs": []
    },
    {
      "cell_type": "markdown",
      "source": [
        "## CCC '18 J3 - Are we there yet?\n",
        "\n",
        "Canadian Computing Competition: 2018 Stage 1, Junior #3\n",
        "\n",
        "Link: https://dmoj.ca/problem/ccc18j3"
      ],
      "metadata": {
        "id": "TZTjh5BDGNCo"
      }
    },
    {
      "cell_type": "markdown",
      "source": [
        "You decide to go for a very long drive on a very straight road. Along this road are five cities. As you travel, you record the distance between each pair of consecutive cities.\n",
        "\n",
        "You would like to calculate a distance table that indicates the distance between any two of the cities you have encountered.\n",
        "\n",
        "**Input Specification**\n",
        "\n",
        "The first line contains 4 positive integers less than 1000, each representing the distances between consecutive pairs of consecutive cities: specifically, the i-th integer represents the distance between city i and city i + 1.\n",
        "\n",
        "**Output Specification**\n",
        "\n",
        "The output should be 5 lines, with the i-th line (1 ≤ i ≤ 5) containing the distance from city i to cities 1, 2, 3, 4 in order, separated by one space."
      ],
      "metadata": {
        "id": "oDkQcqpwGf7Y"
      }
    },
    {
      "cell_type": "code",
      "source": [
        "# FUNCTIONS FUNCTIONS FUNCTIONS FUNCTIONS FUNCTIONS FUNCTIONS\n",
        "\n",
        "def int_list(str):\n",
        "\n",
        "  x = str.split()\n",
        "  int_seq = []\n",
        "  for i in range(len(x)):\n",
        "    x[i] = int(x[i])\n",
        "    int_seq.append(x[i])\n",
        "  return int_seq\n",
        "\n",
        "def firstrow(lst):\n",
        "  \n",
        "  total = 0\n",
        "  first_row = [0]\n",
        "\n",
        "  for i in range(len(lst)):\n",
        "    total = total + lst[i]\n",
        "    first_row.append(total)\n",
        "\n",
        "  return first_row\n",
        "\n",
        "# FUNCTIONS FUNCTIONS FUNCTIONS FUNCTIONS FUNCTIONS FUNCTIONS\n",
        "\n",
        "dist = int_list(input(\"Please enter the distances between the cities, separated by spaces: \"))\n",
        "\n",
        "first_row = firstrow(dist)\n",
        "  \n",
        "print(\" \".join(map(str,first_row)))\n",
        "\n",
        "grid = []\n",
        "\n",
        "for n in range(1,5):\n",
        "  rows = []\n",
        "  \n",
        "  for k in range(0,5):\n",
        "    x = abs(first_row[k] - first_row[n])\n",
        "    rows.append(x)\n",
        "  \n",
        "  f = \" \".join(map(str, rows))\n",
        "  print(f)"
      ],
      "metadata": {
        "id": "wa-1hN8IHHPV"
      },
      "execution_count": null,
      "outputs": []
    },
    {
      "cell_type": "markdown",
      "source": [
        "ECOO '12 R1 P2 - Decoding DNA\n",
        "\n",
        "Link: https://dmoj.ca/problem/ecoo12r1p2"
      ],
      "metadata": {
        "id": "QeMyHH5yHKMh"
      }
    },
    {
      "cell_type": "markdown",
      "source": [
        "DNA is made up of two twisted strands that encode genes using long combinations of four bases: Adenine, Cytosine, Guanine and Thymine. The strands are complementary to one another, meaning that Adenine and Thymine are always opposite each other, and Cytosine and Guanine are always opposite each other, like this.\n",
        "\n",
        "**A double strand of DNA:\t**\n",
        "\n",
        "ATCAAGGCCTATTCCGGGAAAGG\n",
        "\n",
        "TAGTTCCGGATAAGGCCCTTTCC\n",
        "\n",
        "In order for the information in a gene to be used, it has to be transcribed into a strand of RNA. During this process, a portion of one strand of DNA is transcribed – this portion is known as the transcription unit. The start of the sequence to be transcribed is signaled by a sequence of bases known as a promoter, and the end is signaled by a sequence known as the terminator. For our purposes, the promoter is the sequence TATAAT, which begins 10 bases before the start of the transcription unit, and the terminator consists of two distinct, complementary, reversed sequences of at least length 6 that cause the RNA molecule to coil back on itself and pinch off the transcribed strand. If TATAAT appears twice on a strand, only the first occurrence counts as the promoter. An example is shown below.\n",
        "\n",
        "\n",
        "AGATTA**TATAAT**GATA<ins>GGATTTAGATTGACCC</ins>**GTCATGCA**AGTCCA**TGCATGAC**AGC\n",
        "\n",
        "\n",
        "In this example the promoter and terminator sequences are boldfaced, and the transcription unit is underlined. The resulting RNA will be complementary to the transcription unit, except that in RNA Uracil takes the place of Thymine. For this example, the result looks like this:\n",
        "\n",
        "CCUAAAUCUAACUGGG\n",
        "\n",
        "The input will contain five single strands of DNA, one on each line. Write a program to output the RNA sequence that results from the transcription process. The sequences should be numbered starting at 1, with a colon and a single space character following the number, as shown below.\n",
        "\n",
        "**Sample Input**\n",
        "\n",
        "AGATTATATAATGATAGGATTTAGATTGACCCGTCATGCAAGTCCATGCATGACAGC\n",
        "\n",
        "AGTCTTCAAGGGGATTCCCAGGTATATAATGCAGATCGCGACGAAATATCGGGCGGGATCCATACCGACCCAGCCGCCCGA\n",
        "\n",
        "TATAATGGGGGAGAGACCGAGTGTTTAAGTCCCGAGGGATCGGGAGTGAGATTGAGGGAATTCCGGGAATCTCACT\n",
        "\n",
        "**Sample Output**\n",
        "\n",
        "1: CCUAAAUCUAACUGGG\n",
        "2: UAGCGCUGCUUUAU\n",
        "3: CUCUCUGGCUCACAAAUUC"
      ],
      "metadata": {
        "id": "Qv1_3FL2Hm3a"
      }
    },
    {
      "cell_type": "code",
      "source": [
        "# FUNCTIONS FUNCTIONS FUNCTIONS FUNCTIONS FUNCTIONS FUNCTIONS\n",
        "\n",
        "def dns_prompt(x):               #DNS Prompt\n",
        "  \n",
        "  dns_total = []\n",
        "\n",
        "  while len(dns_total) < x:\n",
        "    dns = input(\"Please enter dns sequence: \")\n",
        "\n",
        "    misscounter = 0\n",
        "    \n",
        "    for y in range(len(dns)):\n",
        "      if dns[y] not in \"ACGT\":\n",
        "        print(\"Invalid sequence.\")\n",
        "        misscounter = misscounter + 1\n",
        "        break\n",
        "    \n",
        "    if misscounter == 0: \n",
        "      dns_total.append(dns) \n",
        "          \n",
        "  return dns_total\n",
        "\n",
        "def revdns(str):          #Character complementaries for DNS\n",
        "  \n",
        "  if str == \"A\":\n",
        "    return \"T\"\n",
        "  elif str == \"T\":\n",
        "    return \"A\"\n",
        "  elif str == \"C\":\n",
        "    return \"G\"\n",
        "  elif str == \"G\":\n",
        "    return \"C\"\n",
        "\n",
        "def revdns_loop(str):     #Complementary loop for DNS\n",
        "  string = \"\"\n",
        "  for i in range(len(str)):\n",
        "     x = revdns(str[i])\n",
        "     string = string + x\n",
        "  return string\n",
        "\n",
        "def revdns_with_U(str):  #Character compl. for DNS with Uracil\n",
        "  \n",
        "  if str == \"A\":\n",
        "    return \"U\"      #Only this line is different than revdns()\n",
        "  elif str == \"T\":\n",
        "    return \"A\"\n",
        "  elif str == \"C\":\n",
        "    return \"G\"\n",
        "  elif str == \"G\":\n",
        "    return \"C\"\n",
        "\n",
        "def revstring(str):\n",
        "  x = str[::-1]\n",
        "  return x\n",
        "\n",
        "def rev_strg_match(str_1,str_2,k): #String match search\n",
        "  \n",
        "  lst_total = []\n",
        "  \n",
        "  for i in range(k,len(str_1) - 5):     #String length: 6\n",
        "    x = str_1[i:i+6]\n",
        "    lst_total.append(x)\n",
        " \n",
        "  for i in range(len(lst_total)):\n",
        "    if (lst_total[i] != revdns_loop(revstring(lst_total[i]))) and (lst_total[i] in str_2):            #Avoiding palindromes\n",
        "      return str_1.find(lst_total[i])\n",
        "  \n",
        "# PROGRAM PROGRAM PROGRAM PROGRAM PROGRAM PROGRAM PROGRAM \n",
        "\n",
        "import time\n",
        "\n",
        "dns_list = dns_prompt(3)\n",
        "start = time.time()\n",
        "promoter = []\n",
        "\n",
        "for i in range(len(dns_list)):\n",
        "  result = dns_list[i].find(\"TATAAT\")\n",
        "  promoter.append(result)\n",
        "\n",
        "dns_list_copy = dns_list.copy()\n",
        "\n",
        "for i in range(len(dns_list_copy)):\n",
        "  dns_list_copy[i] = revstring(dns_list_copy[i])\n",
        "\n",
        "new_list = []\n",
        "\n",
        "for i in range(len(dns_list_copy)):\n",
        "  x = dns_list_copy[i]\n",
        "  string = \"\"\n",
        "  for j in range(len(x)):\n",
        "    y = revdns(x[j])\n",
        "    string = string + y\n",
        "  new_list.append(string)\n",
        "\n",
        "terminator_list = []\n",
        "\n",
        "for i in range(len(dns_list)):\n",
        "  x = rev_strg_match(dns_list[i],new_list[i], promoter[i]+10)\n",
        "  terminator_list.append(x)\n",
        "\n",
        "relevant_seq = []\n",
        "\n",
        "for i in range(len(dns_list)):\n",
        "  x = dns_list[i][(promoter[i]+10):terminator_list[i]]\n",
        "  relevant_seq.append(x)\n",
        "\n",
        "for i in range(len(relevant_seq)):\n",
        "  x = relevant_seq[i]\n",
        "  string = \"\"\n",
        "  for j in range(len(x)):\n",
        "    y = revdns_with_U(x[j])\n",
        "    string = string + y\n",
        "  print(string)\n",
        "\n",
        "end = time.time()\n",
        "print(end - start)"
      ],
      "metadata": {
        "id": "MpnKyyA0JZ1O"
      },
      "execution_count": null,
      "outputs": []
    },
    {
      "cell_type": "markdown",
      "source": [
        "## COCI '06 Regional #1 Bard\n",
        "\n",
        "Link: https://dmoj.ca/problem/crci06p1"
      ],
      "metadata": {
        "id": "Lo1HeGflJcVp"
      }
    },
    {
      "cell_type": "markdown",
      "source": [
        "Every evening villagers in a small village gather around a big fire and sing songs.\n",
        "\n",
        "A prominent member of the community is the bard. Every evening, if the bard is present, he sings a brand new song that no villager has heard before, and no other song is sung that night. In the event that the bard is not present, other villagers sing without him and exchange all songs that they know.\n",
        "\n",
        "Given the list of villagers present for E consecutive evenings, output all villagers that know all songs sung during that period.\n",
        "\n",
        "**Input Specification**\n",
        "\n",
        "The first line of input contains an integer N, 2 ≤ N ≤ 100, the number of villagers. The villagers are numbered 1 to N. Villager number 1 is the bard.\n",
        "\n",
        "The second line contains an integer E, 1 ≤ E ≤ 50, the number of evenings.\n",
        "\n",
        "The next E lines contain the list of villagers present on each of the E evenings. Each line begins with a positive integer K, 2 ≤ K ≤ N, the number of villagers present that evening, followed by K positive integers separated by spaces representing the villagers.\n",
        "\n",
        "No villager will appear twice in one night and the bard will appear at least once across all nights.\n",
        "\n",
        "**Output Specification**\n",
        "\n",
        "Output all villagers that know all songs, including the bard, one integer per line in ascending order."
      ],
      "metadata": {
        "id": "gJ8cpCo0JqmH"
      }
    },
    {
      "cell_type": "code",
      "source": [
        "N = int(input(\"Please enter the number of villagers: \"))\n",
        "E = int(input(\"Please enter the number of evenings: \"))\n",
        "\n",
        "villagers = set()\n",
        "villagers_total = set()\n",
        "\n",
        "for i in range(E):\n",
        "  K_num = []\n",
        "  \n",
        "  K = input(\"Please enter the number of villagers present, followed by the numbers that represent the villagers: \")\n",
        "  \n",
        "  KJ = K.split()\n",
        "  \n",
        "  for j in range(len(KJ)):\n",
        "    K_num.append(int(KJ[j]))\n",
        "                 \n",
        "  for k in range(1,len(K_num)):\n",
        "    villagers.add(K_num[k])\n",
        "    \n",
        "  if i == 0:\n",
        "    villagers_total = villagers\n",
        "    \n",
        "  else:\n",
        "    if 1 in villagers:\n",
        "      villagers_total = villagers_total.intersection(villagers)\n",
        "      \n",
        "    else:\n",
        "      villagers_total.update(villagers)\n",
        "\n",
        "  villagers = set()\n",
        "\n",
        "villagers_final = list(villagers_total)\n",
        "villagers_final.sort()\n",
        "\n",
        "for i in range(len(villagers_final)):\n",
        "  print(villagers_final[i])"
      ],
      "metadata": {
        "id": "kEjZevb-KUwh"
      },
      "execution_count": null,
      "outputs": []
    },
    {
      "cell_type": "markdown",
      "source": [
        "## DMOPC '19 Contest 5 P1 - Conspicuous Cryptic Checklist\n",
        "\n",
        "Link: https://dmoj.ca/problem/dmopc19c5p1"
      ],
      "metadata": {
        "id": "53j7FoFrKXmI"
      }
    },
    {
      "cell_type": "markdown",
      "source": [
        "Tzak has spent the weekend hastily preparing DMOPC problems! Unfortunately, he is now behind on several assignments. After rummaging through his backpack, he realizes that he has N items. To save space, he records the i-th item as a string, s_i, on his checklist. He has M upcoming assignments, the i-th of which requires  items to complete, r_1, r_2, ..., r_T_i . If Tzak has all T_i required items, he can complete the i-th assignment. Otherwise, he flunks it. Help him determine how many assignments he can complete!\n",
        "\n",
        "**Constraints**\n",
        "\n",
        "In all subtasks,\n",
        "\n",
        "1 ≤ N, M, T_i, ≤ 200\n",
        "\n",
        "1 ≤ |s_i|, |r_i| ≤ 10 where |S| denotes the length of string S\n",
        "\n",
        "**Input Specification**\n",
        "\n",
        "The first line contains two space-separated integers, N and M.\n",
        "The next N lines contain a single string, s_i. It is guaranteed that all the strings will be unique.\n",
        "The next M sections contain a single integer T_i, followed by T_i lines each containing a single string, r_i.\n",
        "\n",
        "**Output Specification**\n",
        "\n",
        "Output a single integer on a single line, the answer to the problem."
      ],
      "metadata": {
        "id": "VhLygjBzKo7m"
      }
    },
    {
      "cell_type": "code",
      "source": [
        "N_M = input(\"Please enter the number of items and assignments, separated by a space: \")\n",
        "\n",
        "N_M_list = N_M.split()\n",
        "\n",
        "for i in range(len(N_M_list)):\n",
        "  N_M_list[i] = int(N_M_list[i])\n",
        "\n",
        "items = set()\n",
        "\n",
        "for i in range(N_M_list[0]):\n",
        "  item = input(\"Please enter the item: \")\n",
        "  items.add(item)\n",
        "\n",
        "counter = 0\n",
        "\n",
        "for i in range(N_M_list[1]):\n",
        "  num_items = int(input(\"Please enter the number of items for the assignment: \"))\n",
        "  \n",
        "  items_for_a_set = set()\n",
        "  \n",
        "  for j in range(num_items):\n",
        "    items_for_a = input(\"Please enter the items needed for the assignment: \")\n",
        "    items_for_a_set.add(items_for_a)\n",
        "\n",
        "  if items_for_a_set.issubset(items) == True:\n",
        "    counter = counter + 1\n",
        "\n",
        "print(counter)"
      ],
      "metadata": {
        "id": "3fqFT-m2MBGm"
      },
      "execution_count": null,
      "outputs": []
    },
    {
      "cell_type": "markdown",
      "source": [
        "## COCI '15 Contest 2 #1 Marko\n",
        "\n",
        "Link: https://dmoj.ca/problem/coci15c2p1"
      ],
      "metadata": {
        "id": "xfFZqHV3MG6k"
      }
    },
    {
      "cell_type": "markdown",
      "source": [
        "Good old Marko came across a new feature on his mobile phone – T9 input! His phone has a keyboard consisting of numbers looking like this:\n",
        "\n",
        "![phone_keys.jpg](data:image/jpeg;base64,/9j/4AAQSkZJRgABAQEAeAB4AAD/2wBDAAIBAQIBAQICAgICAgICAwUDAwMDAwYEBAMFBwYHBwcGBwcICQsJCAgKCAcHCg0KCgsMDAwMBwkODw0MDgsMDAz/2wBDAQICAgMDAwYDAwYMCAcIDAwMDAwMDAwMDAwMDAwMDAwMDAwMDAwMDAwMDAwMDAwMDAwMDAwMDAwMDAwMDAwMDAz/wAARCAGIAQEDASIAAhEBAxEB/8QAHwAAAQUBAQEBAQEAAAAAAAAAAAECAwQFBgcICQoL/8QAtRAAAgEDAwIEAwUFBAQAAAF9AQIDAAQRBRIhMUEGE1FhByJxFDKBkaEII0KxwRVS0fAkM2JyggkKFhcYGRolJicoKSo0NTY3ODk6Q0RFRkdISUpTVFVWV1hZWmNkZWZnaGlqc3R1dnd4eXqDhIWGh4iJipKTlJWWl5iZmqKjpKWmp6ipqrKztLW2t7i5usLDxMXGx8jJytLT1NXW19jZ2uHi4+Tl5ufo6erx8vP09fb3+Pn6/8QAHwEAAwEBAQEBAQEBAQAAAAAAAAECAwQFBgcICQoL/8QAtREAAgECBAQDBAcFBAQAAQJ3AAECAxEEBSExBhJBUQdhcRMiMoEIFEKRobHBCSMzUvAVYnLRChYkNOEl8RcYGRomJygpKjU2Nzg5OkNERUZHSElKU1RVVldYWVpjZGVmZ2hpanN0dXZ3eHl6goOEhYaHiImKkpOUlZaXmJmaoqOkpaanqKmqsrO0tba3uLm6wsPExcbHyMnK0tPU1dbX2Nna4uPk5ebn6Onq8vP09fb3+Pn6/9oADAMBAAIRAxEAPwD96fFfjHTvBGnJdapcfZoJJBEr+Wz5YgkDCgnop/Kuf/4aD8If9Bf/AMlZv/iKb8aP9X4X/wCxhtP/AGeupoA5j/hoPwh/0F//ACVm/wDiKP8AhoPwh/0F/wDyVm/+Irp6KAOY/wCGg/CH/QX/APJWb/4ij/hoPwh/0F//ACVm/wDiK6eigDmP+Gg/CH/QX/8AJWb/AOIo/wCGg/CH/QX/APJWb/4iunooA5j/AIaD8If9Bf8A8lZv/iKP+Gg/CH/QX/8AJWb/AOIrp6KAOY/4aD8If9Bf/wAlZv8A4ij/AIaD8If9Bf8A8lZv/iK6euP+EP8AzNH/AGMF3/7JQBZ/4aD8If8AQX/8lZv/AIij/hoPwh/0F/8AyVm/+Irp6KAOY/4aD8If9Bf/AMlZv/iKP+Gg/CH/AEF//JWb/wCIrp6KAOY/4aD8If8AQX/8lZv/AIij/hoPwh/0F/8AyVm/+Irp6KAOY/4aD8If9Bf/AMlZv/iKP+Gg/CH/AEF//JWb/wCIrp6KAOY/4aD8If8AQX/8lZv/AIij/hoPwh/0F/8AyVm/+Iqt8If+Zo/7GC7/APZK7CgDmP8AhoPwh/0F/wDyVm/+Io/4aD8If9Bf/wAlZv8A4iunooA5j/hoPwh/0F//ACVm/wDiKP8AhoPwh/0F/wDyVm/+Irp6KAOY/wCGg/CH/QX/APJWb/4ij/hoPwh/0F//ACVm/wDiK6eigDmP+Gg/CH/QX/8AJWb/AOIo/wCGg/CH/QX/APJWb/4iunooA5j/AIaD8If9Bf8A8lZv/iK6Dwp4x07xvpz3Wl3H2mCOQxM/lsmGABIwwB6MPzqeuW+C/wDq/FH/AGMN3/7JQB2tFFFAHFfGj/V+F/8AsYbT/wBnrqa5b40f6vwv/wBjDaf+z11NABRRRQAUUUUAFFFFABRRRQAVx/wh/wCZo/7GC7/9krsK4/4Q/wDM0f8AYwXf/slAHYUUUUAFFFFABRRRQAUUUUAcf8If+Zo/7GC7/wDZK7CuP+EP/M0f9jBd/wDsldhQAUUUUAFFFFABRRRQAUUUUAFct8F/9X4o/wCxhu//AGSuprlvgv8A6vxR/wBjDd/+yUAdrRRRQBxXxo/1fhf/ALGG0/8AZ66muW+NH+r8L/8AYw2n/s9dTQAUUUUAFFFFABRRRQAUUUUAFcf8If8AmaP+xgu//ZK7CuP+EP8AzNH/AGMF3/7JQB2FFFFADLm4S0t3lkO2ONS7H0A5Nfn3L/wWY+MXxasZfFXwR/Yx+J/xO+FURdo/FGoeIbLw3catCn/LxYafOrz3UTgEoRtL8cAnA/QWSNZo2R1DKwwykZBHoa5r4p/FPwp+zr8KtW8VeKtW0zwv4S8MWTXN7e3TrDbWcCD8vQKo5JIABJArOclBOpJ2SXy87+Xo111NIrm9xK7b/q3n639DzX/gn9+394H/AOCjfwGHjrwSmraf9jvptI1rRNYtxbap4f1CHHm2tzECQrjKkYJBDDocge41+c//AAbw/DjWNU8I/H/45Xml6joHh79oj4lah4t8LabexmKUaUXfyLloyBsM29iPVUQjIIJ/RiuirFrluuVuMW12bim130bas9Vs9TCLV5JPmSlJJ90pNJ/NJP5hRRRWZZx/wh/5mj/sYLv/ANkrsK4/4Q/8zR/2MF3/AOyV2FABRRRQAV8IfED/AIKrfHy813Vbz4YfsR/E7x54F0W+urKfXdT8U6b4eur8W8jRvPZWEnmTXMT7S0bDb5gKkDmvu+vjX9r3/gvp+y5+xF8V9f8Ah/458f3kHj/w6IvtOgWugX8krPLEksSLcGFbQbkkQ7mnVV3fMy4OM5O0lZ666b3+W79F3NIxbi9PV9l+S9Wer/8ABPn/AIKB+B/+Cj/wH/4TjwVHq+mmwv5dH1vRNYtvs2p6BqEO3zbW4jyQHXcpyCQQw6HIHudfDf8AwQy/Zp174WfCv4q/FHxKmlafqX7RPj3UPiBBo+nX8F/DotncN/o8DXEDNDJLtyzGNio3AZyDX3JXRUVmrqztG67SaTkvk7r9XuYQad+V8yvJJ90m1F/NWYUUUVmWFct8F/8AV+KP+xhu/wD2Suprlvgv/q/FH/Yw3f8A7JQB2tFFFAHFfGj/AFfhf/sYbT/2euprlvjR/q/C/wD2MNp/7PXU0AFFFFABRRXzD+3f/wAFYfhr+wf4s0nwXqVp4q8bfFfxTaC78OeBfC+kTX+ra0pd41ZSF8qNN8b5Z3BARiFbGKmc1Hf+vRdSlFu7Wy37L1fQ+nqK+V/+COn7f+u/8FMP2NI/ip4g8Oab4Tur/wAQanp8GlWUrzC0gt5zHGskj/6yXA+ZwqKT0RelfVFaSi425uqT+9Jr8yL6tdm1802n+KCiiipGFcf8If8AmaP+xgu//ZK7CuP+EP8AzNH/AGMF3/7JQB2FFFFAGX438Y2Hw78F6vr+qzfZ9L0Oym1C8lxnyoYkMjtj2VSa/OD9j/4K3H/BbNNF/aM+P98t38J7i9mvPhr8JBOP7HtLaGZ4otS1dQcXt45QsI3zFGpxg7iq/ov8TPhzo3xh+HOv+EvEdn/aPh/xRp1xpOp2nmvD9ptZ42ilj3xsrruRmG5WDDOQQea+H/8AiF5/YW/6Id/5efiD/wCTqmneNVzavZLl8nd3du/w8r+zrbVpqp2dNRi9783mrKyvfb4uZW101tdP70097VIEgtTbiKFAiRxEbY1HAAA6AVYr50/Yi/4JNfs//wDBOTxHrurfBnwD/wAIdqHia2jtNSl/tzUtR+0xRsXRcXdxKFwzE5UAnPJr6LrR23XzM432tp0CiiipKOP+EP8AzNH/AGMF3/7JXYVx/wAIf+Zo/wCxgu//AGSuwoAKKKKAIb++i0yxmuZ22Q28bSyNgnaqjJPHPQVwOgfFv4VftD/B9vEth4g8C+MfAuqWpkl1AXdteabPDjLeYxJTAH3g3TuBivQZ4EuoHilRZI5FKujDKsDwQR3FfF3in/g3X/Yt8Y/EE+Jrz4CeGY9SaTzTFZX1/ZWGeT/x5wzpbY56eXj2qbNtp7f1069Oq/yrRJNb/wBden3M8T/4IKXOmTftlfthp8Inib9mOLxRp48HCw/5AqaoYGOpjTsfJ5O8oSI/kwYtvBFfqBWB8L/hV4Z+CXgTTvC/g7w/o3hbw5pMflWWmaVZx2lparnJCRoAoySSeOSSTya361k1ywhHaMYxu93ZWu/60WnQjVznUenM27LZX/rV9Xd6XsFFFFQMK5b4L/6vxR/2MN3/AOyV1Nct8F/9X4o/7GG7/wDZKAO1ooooA4r40f6vwv8A9jDaf+z11Nct8aP9X4X/AOxhtP8A2eupoAKKKKACsubwjpMfiOfXRpenDXJbMWL6iLZPtb26szrCZcbzGGd2C5wCzHGSa1KZcf8AHu/+6awxP8Gfo/yHHex+cn/Bq5/yia07/scNf/8ASxq/R6vzh/4NXP8AlE1p3/Y4a/8A+ljV+j1dtbaH+CH/AKREvEf71X/6+1f/AE5IKKKKxMwrj/hD/wAzR/2MF3/7JXYVx/wh/wCZo/7GC7/9koA7CiiigAooooAKKKKACiiigDj/AIQ/8zR/2MF3/wCyV2Fcf8If+Zo/7GC7/wDZK7CgAooooAKKKKACiiigAooooAK5b4L/AOr8Uf8AYw3f/sldTXLfBf8A1fij/sYbv/2SgDtaKKKAOK+NH+r8L/8AYw2n/s9dTXLfGj/V+F/+xhtP/Z66mgAooooAKQjIpaKN9GBzfwr+DnhH4FeEl0DwR4V8OeDtCSaS4XTdD0yHT7RZZDukcRQqqbmPJOMk9a6SiigOtwooooAK4/4Q/wDM0f8AYwXf/sldhXH/AAh/5mj/ALGC7/8AZKAOwoor8mf2y/2Q/wDgn14b+J/ivUP2ofjvP41+IdzqdzqJh174lXv27wsJJHkitrTT7KYG3jhVlWNXjY4Udc4qJTtK39fL+kXGN1/X4n6teIZWh0C+dGKOlvIyspwVIU8ivhv/AINuPi/4t+On/BKTwl4i8beKPEXjHxBc63rUU2p65qU2oXkqR6jOkatNMzOQqgKATwAAOK83/wCDb/8Aamvfjz+yd8Z/Cn/Cc6v8S/C3wr8bahoXg/xLqpla91LQ2iEloZWlCyEhd2N6qQrKuAAAPnz/AIIB/wDBM7SP2/8A/gmHpX/C7tZ8Ra/8L7LXdXtfDngjStau9H02X/TZGnvb42skctzOZmdEDP5cccYwm52Y3Ti1XqcuqdOEtdLJyT2111tbv1tqOTX1Zc26quOmt7RmtHppdXv26X0P27or8rv2efAN1/wRz/4LHfD/AOAXhDxT4k1P4B/tAeHNRu9C8M61qMmoDwfqlghldbWSQl1geNcbSeTJyWKA0/TPAerf8F1f29vjbonjbxZ4q0j9mr4Ba4PBlr4S8P6pNpY8ZaxGubya/mhKyPFG3yqisBhkIKneWPjUHS2kpPXSyhLklff7VkrXvdPa9s3eHN7X7LitNb8y5o226Xbva3K1va/6nUV85fsQ/wDBKr4Nf8E5vEOtXfwf0jXvC9jr9qltd6RL4hvdR08sjlxMkd1LIUk5ILKwyDyOlfRtN2srCV7u5x/wh/5mj/sYLv8A9krsK4/4Q/8AM0f9jBd/+yV2FIYUUV+XHxg8Kap/wWY/4Kz/ABR+CPibxR4o0P8AZ7/Z00zTk17w9oWpS6c3jXV7+Myqt3NEVc2yIrrsDdY8ggsSEuaU1TgtbN+SS3b38ku7aXUeig6ktlb1bbskvz9E30PUP+Dir4xeLvgj+xH4S1bwZ4p8R+EdUufiR4fsZrzRdSmsLiW3lncSQtJEysY3AAZScHuK+96/D/8A4Lh/8EsvCf8AwT8/ZZ8AXfwW1fxP4X+HV78RtBtdb8D32uXmraVJN57NBe2ounle3nVgVfa4V0fkZQZ+oP8AgvR+2zq3w18efBD9n/RviXZfBS2+OGp3J8UeP7nUotMbw7oloqNcCC6lZUhnm37EckEEBRy+QqTXs3GGspVmlfT/AJd0d97Jayv0V3a90ZNP6y3PSMaUZO2v263Tu9I26uy2sz9IK+Sf+C337X3jT9iL/gnN4w8a/Dt7S38az3Wn6HpF3cxrLHp817dxW32jYwKsyCQsoYFdwXIIBB/OP9sj4Q/sf/sIfs9at8Yv2R/2lvCGgfHnwJ5Osp9k+L0Wuy+PxG6+faXtm9263BljLnbGi5YDjHFd5/wcG/s1/CL9sz/gmn4G/anvfCrS/EDXbLwlbafqQ1O7RbbTb+8ike38lZRC3F1KN5Qt83DcDFez9o4xW3tKcZbrSbsrPtKzjfSUbN2+G+ntVS5pvfknKPXWCu7ryunbVS2vu1+hf7An7Cuufsd6frN74k+OXxn+M2ueKobZ79vGuuLe2GnTxhy7afbhB9lR2kOU3sMIg/hyfouvDf2Fv+Cc/wAHv+CcvgfV9C+DvhR/Cml+I7tNR1CFtVvNQ8+dYwgfdcyyMvygDCkD2r3KtKsk5aflb5fIyopqF3v+fn6vr5hXLfBf/V+KP+xhu/8A2Suprlvgv/q/FH/Yw3f/ALJWZqdrRRRQBxXxo/1fhf8A7GG0/wDZ66muW+NH+r8L/wDYw2n/ALPXU0AFFFFABRRRQAUUUUAFFFFABXH/AAh/5mj/ALGC7/8AZK7CuP8AhD/zNH/YwXf/ALJQBf8Ai3Ya3qvwq8TW3hqdbXxFcaTdRaVM3SG6aFxCx+jlT+FfjV/wRk/bn/Z9/YZ/Z8sfhf4/+F/jDT/2ubK9vhr+hj4fXmo+KfFt81zJIksd2sLh1YMgDSzIi7SeF+Y/ttRUwTjOUk9JJJ91Zt6PpvrdNOy00HO0oRi94ttdndW1XXbTVNa66s/K7/g3h1TxDrfiT9uK98W6bbaN4mvPi9qU+p6fbz+fHYXDRuzwrJgB9hJXcAAducc14X/wQL/4KxeEv+Cfv/BNHSNO+Ouk+JvBvgG51zVrnwx43tNDu9W0jUA19Ks1nO1rHI9vdJOJCFdQrxshDZBFfuLRTheDvG3wQh/4DbXfrb5eZdSanGSlfWpKpe/83Nptr8W/4Lp+Yf7L+pa3/wAFa/8Agrj4Z/aRsvCHiTwx8CvgZ4cvdI8Falr+nyafdeMNTv1aOe7ghkAcWyxMQGYdVTuWVOa8IfGC8/4IMft4/Hif4oeF/Fl1+zt8ePEjeOtI8d6LpU2qWvhnUJVP2u11BIVaSIFsBCFYkIpAbL+X+sNFNe5yKntFSjrrdSlzyvtrzaq1rWS2veL8/N7X7Ti9NLOK5Y2305bp3ve7e9mvnr9in/gp/wDCX/gobq+rx/CS98T+JNI0W2S4uNcn8NX+maW7OxUQxy3UURkl4LFVU4HJNfQtFFN26Eq/U4/4Q/8AM0f9jBd/+yV2Fcf8If8AmaP+xgu//ZK7CkMK/KL4o/Fi7/4Io/8ABX74w/Fvx/4a8UX/AOz5+0jp+l3d34u0fTJdQi8I6pYQmHy7xIgzrE4aRgwBJ8xdqttfb+rtFKLlCoqkHrZp9mnun80muzSKunTdOWzs/Rp3T/T0bPxG/wCC5v8AwUg039v79lL4eTfB3RPEGrfCTT/iPoFzq3jfVtHu9IstQuGmdbey0+O6ijluGBLPLIFCRhEXcxkwPpH/AIL1fsh33iv4q/Af9oK3+FMfx08PfBjUL628Y+BDpsWpzato97GqSTw2siss8tuy+YExnJVuAhYfpRRQlyRXs91NzTeu8Yxae11aLXT3XbdczhXdWU57OCg1tonN3v3vK/k1fbRfj9pv7Zv/AATS+JVm+mfDL9mLw18UviIQscXgrQ/gbt1RJ24Eczy2aW8Kq333MhCgMRuxz7b/AMHGHhTTPAn/AASAGiaJpVjoejaR4l8K2djp1lAsFtYQR6lbJHDHGgCoiKAoVQAAAAK/RSitFOzg19mcZPs+WSlby2euu5MouUZQ7xlHz95Wu/Tyt/lHa/8AHtH/ALo/lUlFFQVFWSQVy3wX/wBX4o/7GG7/APZK6muW+C/+r8Uf9jDd/wDslAztaKKKAOK+NH+r8L/9jDaf+z11Nct8aP8AV+F/+xhtP/Z66mgAooooAKKKKACiiigAooooAK4/4Q/8zR/2MF3/AOyV2Fcf8If+Zo/7GC7/APZKAOwooooAKKKKACiiigAooooA4/4Q/wDM0f8AYwXf/sldhXH/AAh/5mj/ALGC7/8AZK7CgAooooAKKKKACiiigAooooAK5b4L/wCr8Uf9jDd/+yV1Nct8F/8AV+KP+xhu/wD2SgDtaKKKAOE+PMMtzpfh6OCb7NO+u2yxzbA/lMQ+G2ng4POO+KT/AIQzxZ/0On/lIh/xqf40f6vwv/2MNp/7PXU0Acf/AMIZ4s/6HT/ykQ/40f8ACGeLP+h0/wDKRD/jXYUUAcf/AMIZ4s/6HT/ykQ/40f8ACGeLP+h0/wDKRD/jXYUUAcf/AMIZ4s/6HT/ykQ/40f8ACGeLP+h0/wDKRD/jXYUUAcf/AMIZ4s/6HT/ykQ/40f8ACGeLP+h0/wDKRD/jXYUUAcf/AMIZ4s/6HT/ykQ/41zfw48M+Ibz+3vsnif7F5WsXEc3/ABLopPPkG3dJyflzx8o4GK9Urj/hD/zNH/YwXf8A7JQAf8IZ4s/6HT/ykQ/40f8ACGeLP+h0/wDKRD/jXYUUAcf/AMIZ4s/6HT/ykQ/40f8ACGeLP+h0/wDKRD/jXYUUAcf/AMIZ4s/6HT/ykQ/40f8ACGeLP+h0/wDKRD/jXYUUAcf/AMIZ4s/6HT/ykQ/40f8ACGeLP+h0/wDKRD/jXYUUAeV/Djwz4hvP7e+yeJ/sXlaxcRzf8S6KTz5Bt3Scn5c8fKOBiuk/4QzxZ/0On/lIh/xo+EP/ADNH/YwXf/sldhQBx/8Awhniz/odP/KRD/jR/wAIZ4s/6HT/AMpEP+NdhRQBx/8Awhniz/odP/KRD/jR/wAIZ4s/6HT/AMpEP+NdhRQBx/8Awhniz/odP/KRD/jR/wAIZ4s/6HT/AMpEP+NdhRQBx/8Awhniz/odP/KRD/jR/wAIZ4s/6HT/AMpEP+NdhRQBx/8Awhniz/odP/KRD/jS/AaGW20vxDHPN9pnTXblZJtgTzWATLbRwMnnHbNdfXLfBf8A1fij/sYbv/2SgDtaKKKAOK+NH+r8L/8AYw2n/s9dTXLfGj/V+F/+xhtP/Z66mgAooooAKKKKACiiigAooooAK4/4Q/8AM0f9jBd/+yV2Fcf8If8AmaP+xgu//ZKAOwooooAKKKKACiiigAooooA4/wCEP/M0f9jBd/8AsldhXH/CH/maP+xgu/8A2SuwoAKKKKACiiigAooooAKKKKACuW+C/wDq/FH/AGMN3/7JXU1y3wX/ANX4o/7GG7/9koA7WiiigDivjR/q/C//AGMNp/7PXU1y3xo/1fhf/sYbT/2eupoAKKKKACuP/aB+O3hr9mP4J+KPiB4wv00zwz4R06bU9QuG6rHGpO1R/E7HCqo5ZmAHJrsK/Ovxtqz/APBaP9tweDNNH2n9l79n/XUuPFN8rBrb4heKLch4dNQg4ks7NiskvVXkAXBG1qhpzkqUHZvr/KlvLztdWXWTUepScYJ1Jq6XTu+kV69+iTlayZ5l/wAEG/2mPjf+0B/wUa/ahk+MWreJbVL/AErw94m0Twhe6pPPZ+ErPUY5ri2t4rdz5cEotmgEuxQS6ndk5r9Ya/PD9hxdv/Bwl+22AMAeHfBQAHb/AIl5r9D6uk4vDUXFWXL6/akld9dOo8RBwxE093yN+sqcJOy6K7dl0CiiiggK4/4Q/wDM0f8AYwXf/sldhXH/AAh/5mj/ALGC7/8AZKAOwooooAK/H39hz9irxp/wU+8b/tEePfEf7VP7Wngex0b4x+IvDWg6T4N+I0un6XBYW0qbAkLLKEAaR1CqVUKi4Wv2Cr85V/4N6D8O7/xLqnwt/av/AGpPhtqniHWLzxD9jsvE0L6BHqF1IZJJX05IYklUsRkM+SFALHGamLUajlKN1ytej5oPb0Ul8y3KTpckXb3k36KM1+bT+R9afsSfseSfsW/DfUvDsnxU+L/xbOpai2oDVPiJ4i/tvUbXMccfkRS7E2wjZuCY+87nPNezV8L/APBF/wDbU+KHxq1T4z/BX443Wnaz8Wf2evEEOjajr1hai3g8Q2VwjvaXZRQEWR1ickKFG0plQc190VtVu+WV7pxi0+8XFOP4WMYaOUGrNNprzT1/4HkFFFFZlnH/AAh/5mj/ALGC7/8AZK7CuP8AhD/zNH/YwXf/ALJXYUAFFFFABX5wf8Jp8X/+Cyv7Q/xG0XwF8U/E3wP/AGb/AIW6xN4Tn13wgI4fEvjrV4cfazb3jq32S1gJCq8aku2eWziP9BfiNqdxovw9168tFZrq0064mhVepdY2K4/ECvxV/wCCBv7Fvxb/AG7/APgmB4cuNc+PHxN+Dnw9t9V1T+x7P4bX0ekazr1019NJc6hfag0ckpBldoVhQKMQbmJLYEU4+0qzurqEU7dLydk33sk9OradrJtXOXs6UWnZylbzsk27dnfl17KSWrV/1D/YY/Yd1v8AYqPiS0vfjl8YfjFo+tLbNZRfELVk1e90eSMzeaY7oIjMsvmR/Iw+Xyhg819A1+c3/BOn49/F39mL/gph44/ZB+LvjrUfizp0HhWPxz4C8X6pCq6tLp/nLBLaXjqB5siuWw5y37tiTh1Vf0Zreb5oxqJ3Ulp8m4tPzTTT9N2tTJLllKDVmnr80mmvJpp/PXW4UUUVmUFct8F/9X4o/wCxhu//AGSuprlvgv8A6vxR/wBjDd/+yUAdrRRRQBxXxo/1fhf/ALGG0/8AZ66muW+NH+r8L/8AYw2n/s9dTQAUUUUAQ6hYRapYT20674biNopFyRuVhgjI56GvgE/8Gt37DbHJ+DVx/wCFjrv/AMmV+glFLlV+bqPmdrdD8cP2J/8AggN8Hfh//wAFkPjRLdfBjxPpfw3+G0fhbW/hnqN1e6xHp41ERCe6eC6eXbeFLhF3I7yKhG0qBxX7H0UVUZSVKFFu6jf729/XZeiQTtKo6iVr2X3RS/Fpy9WwooopCCuP+EP/ADNH/YwXf/sldhXH/CH/AJmj/sYLv/2SgDsKKKKAIr55Y7KZoFDzBGManozY4B/Gvz00v/gtV8Y9N0k+Htd/YV/aX/4WdGjQi30vS4bnwtPOMhT/AGuXEccTEZyUbaCOW6n9EKKmzu9dH/Wn9Mq65bW1/rQ+Kv8Agjz+xL8RfgC/xc+LvxpTSbP4wftA+IU1/WtJ02cXFv4dtIUZLTTxKCVkeJXcMykryAC2Cx+1aKK0lJNJJWUUopdlFJJfJIhJ3cm7tttvu27sKKKKkZx/wh/5mj/sYLv/ANkrsK4/4Q/8zR/2MF3/AOyV2FABRRRQA2aFbiFo3UOjgqykZDA9Qa/LH9m/xD8Xf+CE2reOPhXd/AX4p/G34G6j4ju9e+H2ufDXTI9X1DSYryTzZNOvbMyI8YidjiXO05Y85wn6oUVKTU+ePVWfmrp/mk1/k2ht3hyPvdeTSa/JtP8Azs18Bf8ABPj9m/4pfHr/AIKCeN/2ufjN4Mf4Y3WqeGofBHgTwbdXiXWpaZpKzefLc3pTKJPLIARGDlAzq3QE/ftFFaXXLGEdFHRfe2/m2235vSy0J1cnOTu3+iSXySSS9Nbu7CiiipGFct8F/wDV+KP+xhu//ZK6muW+C/8Aq/FH/Yw3f/slAHa0UUUAcV8aP9X4X/7GG0/9nrqa5b40f6vwv/2MNp/7PXU0AFFFFABRRWH8TPiNo3we+HOv+LfEd5/Z3h/wvp1xq2p3fkvN9mtYI2llk2RqzttRWO1VLHGACeKUpKKcpOyRUISnJQgrt7I3KK5L4EfHPwt+0x8HvD3j7wRqn9teE/FdmmoaVf8A2aa2+1QN91/LmRJFzjo6g+1dYTtFVJOLalpYiMlJKUdUxaK8x/ZZ/bK+GP7bHg7VvEHws8X6f4x0fQ9Wn0O+ubSOVFgvIdvmRkSKpIwykMAVZWBUkHNenUNNb+vyeq+9ajd03F7rT5rRr5MK4/4Q/wDM0f8AYwXf/sldhXH/AAh/5mj/ALGC7/8AZKQHYUUUUAFFeZfAD9sj4ZftS+KfHOi+APF2n+JdU+GurtoPiW3t45UbS71dwMTF1UPyjjchZcowzlSBJ+zV+138PP2v9J8UX3w68Q/8JDa+DPEN14V1l/sFzafY9StthngxPGhfb5ifOgZDnhjg00m9u3N/267a+nvLXbVd0F/zt89dPXR6eT7HpNFR3NylnbSSyHbHEpdjjOABk159+yx+1h4A/bW+Dll4/wDhlr//AAkvhHULi4tbe/8AsNzZ+ZJBK0Uq+XcRxyDa6sMlQDjIyOaS1bS6a/LYGmlzPbb572+49FooooA4/wCEP/M0f9jBd/8AsldhXH/CH/maP+xgu/8A2SuwoAKKKKACiiigAooooAKKKKACuW+C/wDq/FH/AGMN3/7JXU1y3wX/ANX4o/7GG7/9koA7WiiigDivjR/q/C//AGMNp/7PXU1y3xo/1fhf/sYbT/2eupoAK4v9oT9ofwX+yn8H9a8e/ELxDYeFvCXh+Hzr7ULtjsjBIVVVVBZ3ZiFVEBZmIABJxXaV+an/AAXcsbf4r/tg/sOfCvxGBN8P/GfxKnv9ctJc/ZtRlsYYmtreUfddXaaQbW656GpfNKcKUd5yjG/bmaV/Oy1t12KVlGc5aqMZS7X5YuVr+djv/hz/AMHBnwg8b6hbXOreAvj34C8D6oyJpPjzxX4En07wrq7ScQiK93sEEpICNMsaksMkZrZ8aftw+E/+CjH/AARB+Lnxb8E6f4h0vw54j+H3imK2ttcghgvkNva3kD70hllQZaNiMOeCM4PFfUnx48F6J48+BXi7QNfsLLUPD+p6Jd2l9Z3KAwTQNCysjA8bdv5V+Wf/AASQ/wCVTDxP/wBiL45/9D1KssWozweK0+CCt/29zrXz09PJde3LLxxuEl/NUSfys9P6+fbov+Ccf/BW7wD+yV/wSz+A/hi38G/F74ueJ9F8FWM+t6X8N/CU2vyeHo5AzI17IGSGAsvzBGk37cNtwQT97fsO/t5fDT/gol8Eo/Hvwv1t9W0cXL2F7b3Nu1te6XdIAXt7iFuUkAZT3UhgVJBBrxD/AIN5fhjonwv/AOCOnwPj0Swhsv7b0Ma1fuigPd3dxI7ySuf4jyFGeiqo6AV5P/wRzsIPAv8AwVi/4KD+E9Lhjs9DtPF2hazFbRjaiXN7aXMtwwUfKNzDPAz6k8V6leLljK9OWtlKV9tVOEbea9/1087HiYbTBUqsNvcjbycXZ+t0tNrN72u/qL/gmx+0r8Kf2oPhL4t1b4Q+CpPAuhaJ4y1TQ9Ts30ez0z7XqcDr9puhHau6OJGYHzGIduSwFfRFfnN/wbQ/8mk/F/8A7LR4o/8ARsNfozXn0ZOWHo1HvKnTk/WVOLfyu9DqTbnUT6TqL5KckvwWoVx/wh/5mj/sYLv/ANkrsK4/4Q/8zR/2MF3/AOyVZR2FFFFAHzp+wr+058KP2g/iT8ddL+GvgmXwlq/w+8c3Ph/xjdPo9nYDXtVjGJLsPbuzXAIXHmTBZDxkV8vf8G4GqW2h/BT9qi9vbiC0s7T4/wDiueeeZwkcMapaMzsx4CgAkk8ACrf/AAQZ/wCTmP28v+y7an/7NX5i/Cf4r689l46+FPjzUdW+G/7KvxJ/aX8UWXj/AMd6VNma5m225h0a4YYNnazbU3zncGDkYCxvueElJuMY/FUoRtfa8pYd/Jdl10jG7aRtioQhKqn8NOtPbV2j7ZfN2Wr23baV2fud+x5/wUZ8Hf8ABQ/wz4+1L4d6D40k8GeFrqfSbbxdqNjBbaN4mmQMJDp585p5Y0IGXeGNeQASQQPnn/g1k/5Q5eDP+w/r3/pzuK+5PBXw18NfBz4HWPhbwbpen6L4V0HSfselWNioW3t7dY8IEx1GOc5JOSSSTmvhv/g1k/5Q5eDP+w/r3/pzuKKPKsRWjHpTjvu/fWvlft0213Im28LCT61Omy9yenn69d9Nj9E6KKKRBx/wh/5mj/sYLv8A9krsK4/4Q/8AM0f9jBd/+yV2FAHx54s/4Ld/B/wb8b/ix8OLnSviLeeNfhPqFjpT6NpWg/2pf+Krq7tpblI9LtraSSefZHExkaRIlTjLYOao/Az/AIL1/AH4ueGfHtz4guPGXwi1z4Z20d74h8MeP9Bk0nXbOCR1jidLZTKZi8jxoqRFpC0kY2DemfFv+CVngbSr/wD4Lw/8FAfEc1lBJrWmXvhvT7W7ZAZIIJ7OR5kU9QHa3hJx18tfSqP7d3wI8KePf+Dl/wDZI1DVtGs7y5/4Q/Wb9zJEpE01is8lo7jHzGKSQuuehCntRDfDQnvVgm/7v7p1G13vyvTRa2vpzMxElTdd9KcrJd7yjGz7fFvrbfXZe5/BP/gu18J/iv8AtI6D8Ltf8GfGn4ReIvGMjQ+F5viJ4Ok0Gz8TuMYW1kd2JLZAXzFTJKqPmZQfVv2wP+Ckfw7/AGHPi58LPCPjz+2LN/ixcahBYarEluNN0lbGFJ55b2WWZGjjCOMFFk6HIFfLf/BzlpFvbfsi/CTxQsYGs+EPi/4cvtNn7xOZZEYZ67SCM4I5VeeKw/8AguP8NNF+L/8AwU9/4J76B4hsYtS0i58a6zPPayqGjnMMVjOisDwV3xrkHqMjvSpNVHThHRur7NvfTlhK9tP57PXppYpcqnUUtbUZVLbapVbK/rTv89bnpurf8HEPwS8JfELRrDxN4R+OXg3wX4ku47PSPiH4i8B3WmeEtTeT/VmK5lIlKMOQ5hC7fmJCgkfZ3xU+MPhf4IfDHVvGni3XdN8P+FNCtDfX+qXkwS3toR/GW75yAAMkkgAEkV8z/wDBerwRpvjv/gj18f7XU7WG5isvClxqUAdA3lT2xWeJ19CropzXxJ+354hl+PX/AAT/AP8Agmj4R8YXTHwd8V/E3g2PxdEzN5OqL/Z8Lrbykk5R3duGJyVB6rTgnUi4R0lz0oJvX+LJxTaVvhcW3ayaa21ZM2oWqT+HlqSaX/TtJ2X+JO2t7Ndb2PpK5/4OPPhFHY/8JDD8Kv2mrz4XhfOPxHh+G1z/AMIqIMkGfzy4l8sYznyfwzxX218EPjj4R/aT+FWi+OPAmv6f4n8KeIrcXOn6lZSborhMkHrgqysCrKwDKylWAIIroo9GtItHGnra262Cw/ZxbCMCERbduzbjG3bxjGMV+b3/AAboWCeAb79rnwDorFfA3gX43azY+HLZOYLGEkboYuwRdq/KOmT61UOWUpU+0eZP0lGLT/8AAk012as73RKMlTVXvJRa9Yykmv8AwBp37rbZ/pVXLfBf/V+KP+xhu/8A2Suprlvgv/q/FH/Yw3f/ALJUgdrRRRQBxXxo/wBX4X/7GG0/9nrqa5b40f6vwv8A9jDaf+z11NABXzT/AMFRv+CcGl/8FJvgPpugf8JFf+CPGng/V4PEng/xTZR+bNoOpwf6uXZuXehzhl3A/dIIKivpavF/25v2Q7r9sr4T6doWmfEbxz8Kte0HV4tc0nxD4Vulhu7a5jiliCyBgRLAyzOHjyu7gE4yDFTZNX0aemjVmndbardehpTeru+j31T0ej8ns/Jnyb4y/Z+/bO8cfAzxPoP7Rnxp+Ceg/CTSNIuJvEGr+AtLv7bxJ4lsIYWaaG4nnKW9isqA+Y9shYLuVCudw5f/AIIf/s9+IPir/wAGz+neAbZbXTda+IPhXxRp+mSX7NHbqb64v47eWQorMIz5isSqsdpyAeldl4l/4Ir/ABh/aV0s+GP2hf2zPiN8UvhtJMr3XhjRPCun+EF1WNSCILy4tmeSeI4G5cLnqCpwR97/AA9+H2ifCfwHo3hjw3plpovh/wAPWUWnabYWqbIbO3iQJHGg7BVAH4Vo4xlRrU52/ecq03sua9358yslorN6XIp1Z06tGdP/AJdty12vpa33O7er0XQ8o/4Jr/s067+xx+wb8LPhd4mu9Jvtf8D6DDpd/caXLJLZyypnJiaRI3K89WRT7V5x+xJ+wX4w/Zs/4KFftVfFnXNR8N3Xhz45ahod3oNtYXE73totlbTRSi6V4kRCWkXb5byZAOcdK+t6K0daTqzrPeSafo5Rk/xijOFOMaKw6+Fcv/kux8n/APBIT9hTxd+wD8DfHnhnxjqPhzUr/wAUfEHWfFdrJo1xNNDHa3jxtEjmWKIiUBTuABUcYY19YUUVjBKNOFNbRjGK9IpRX4JFWs5S/mbk/WTcn+LCuP8AhD/zNH/YwXf/ALJXYVx/wh/5mj/sYLv/ANkpjOwoor5w/bo/ZG+MP7Sut6FN8L/2jvEPwLsra2mstctdO8NWmsf2zFIykNG87qbWZAGCyxgn5vYYmTaskv8Agev/AALvyGktbnzf/wAEC0/tP44/ty6zbkTaZqHx61iK3uF+5K0f3wD7b1/Ou3/YK/4JGn4UfszftB/C/wCNlr4O8aeHPjR8SNb8WJZ2Es1xElheiDyVkMsUTR3UbRFsx52MEZXJHH0X+w5+xX4O/YA/Z00j4beCf7Rn03T5Jbu71DUp/tF/rF5M5ee7uZMDfLIxySAAAAAAABXrtW4QjH2S1Xs4035pcl/vcE11sU6051JVtnKpKp6NuTX3KT+Z8b/8Ewv2M/jp+wz4R8VfCbxj418LfET4PaQGi+HWrTXVyvibTLQjC2N7EYPJaKMHCOkxI2kbdrKke5/wRe/YZ8W/8E6P2B/D/wALPG2oeHdU8QaVqep3s1xoc809myXN5LPGFaaKJ8hXAOUHOcEjmvqyinzy5nUbvJxUW+rSd7vz7vr11IslD2a0jzcyXZ2a08tXp06aBRRRUgcf8If+Zo/7GC7/APZK7CuP+EP/ADNH/YwXf/sldhQB8kfsSfsF+MP2bP8AgoV+1V8Wdc1Hw3deHPjlqGh3eg21hcTve2i2VtNFKLpXiREJaRdvlvJkA5x0qf47/sKeLvif/wAFavgd8ebDUfDkPhD4Z+GtZ0bVLO4uJl1Kea8RliaFFiMbICRuLSKR2Br6woo+1Sl1prlXooOn/wCkt/PUVRKp7Tm+27v1upfnFHyf/wAFjP2E/F3/AAUJ/Zi8P+C/Bmo+HNM1TSvGmkeI5pdauJobdre0lZ5FUxRSt5hBG0FQD3YVF+3b+wd4v/af/bk/ZW+Jmgaj4btNB+B2u6rqeuwahcTR3d3FdQQRxi1VInR2BjbcJHjABGCa+taKVNKDUo9J8/8A29aMfutFD+1KXWUHTf8AhfP+Pvy19Dxj/gop+zrrf7XP7C/xW+GPhu60uy17xz4bu9HsLjUpJI7SGaWMqrStGjuEz1Kox9jXkXjj/gk3pH7Rn/BKX4b/ALPXxF1L7D4g8B+G9FtbPxHoEjNJoms6faxxJe2juqMQHVx8yoWRyPkJyPsSin9mUP5nFv1hzcrT3TXM9V1t2KU2nFrpf/ya17907LT1Pz1079n/AP4KSQeH/wDhBZfjh+ze3h4Wxsh8QD4Y1FvF+3GBP9i3Cw87Hq2M88nmvp/9gD9hfwp/wTy/Zw074e+FZ77UytxLqes61ftuvvEGpTkNcXs7f33YDA/hVVXJxk+10VSk1d9Xu+r629L62Wl7N7IhxWi6LZdF0++2l3srpbsK5b4L/wCr8Uf9jDd/+yV1Nct8F/8AV+KP+xhu/wD2SpGdrRRRQBxXxo/1fhf/ALGG0/8AZ66muT+ONxHZ2fhqWV0iii1+1d3dtqooDkkk9AK1P+Fh6B/0HNH/APAyP/GgDYorH/4WHoH/AEHNH/8AAyP/ABo/4WHoH/Qc0f8A8DI/8aANiisf/hYegf8AQc0f/wADI/8AGj/hYegf9BzR/wDwMj/xoA2KKx/+Fh6B/wBBzR//AAMj/wAaP+Fh6B/0HNH/APAyP/GgDYorH/4WHoH/AEHNH/8AAyP/ABo/4WHoH/Qc0f8A8DI/8aANiuP+EP8AzNH/AGMF3/7JWx/wsPQP+g5o/wD4GR/41yvwt8ZaRp//AAkfn6rpsHn65czR+ZcovmIduGGTyD2PSgD0Kisf/hYegf8AQc0f/wADI/8AGj/hYegf9BzR/wDwMj/xoA2KKx/+Fh6B/wBBzR//AAMj/wAaP+Fh6B/0HNH/APAyP/GgDYorH/4WHoH/AEHNH/8AAyP/ABo/4WHoH/Qc0f8A8DI/8aANiisf/hYegf8AQc0f/wADI/8AGj/hYegf9BzR/wDwMj/xoAx/hD/zNH/YwXf/ALJXYV578LfGWkaf/wAJH5+q6bB5+uXM0fmXKL5iHbhhk8g9j0rqv+Fh6B/0HNH/APAyP/GgDYorH/4WHoH/AEHNH/8AAyP/ABo/4WHoH/Qc0f8A8DI/8aANiisf/hYegf8AQc0f/wADI/8AGj/hYegf9BzR/wDwMj/xoA2KKx/+Fh6B/wBBzR//AAMj/wAaP+Fh6B/0HNH/APAyP/GgDYorH/4WHoH/AEHNH/8AAyP/ABo/4WHoH/Qc0f8A8DI/8aANiuW+C/8Aq/FH/Yw3f/slaP8AwsPQP+g5o/8A4GR/41l/A64jvLPxLLE6SxS6/dOjo25XUhCCCOoNAHcUUUUAcP8AHG3jvLPw1FKiSxS6/ao6Ou5XUhwQQeoNan/CvdA/6Aej/wDgFH/hWd8aP9X4X/7GG0/9nrqaAMf/AIV7oH/QD0f/AMAo/wDCj/hXugf9APR//AKP/CtiigDH/wCFe6B/0A9H/wDAKP8Awo/4V7oH/QD0f/wCj/wrYooAx/8AhXugf9APR/8AwCj/AMKP+Fe6B/0A9H/8Ao/8K2KKAMf/AIV7oH/QD0f/AMAo/wDCj/hXugf9APR//AKP/CtiigDH/wCFe6B/0A9H/wDAKP8Awrlfhb4N0jUP+Ej8/StNn8jXLmGPzLZG8tBtwoyOAOw6V6FXH/CH/maP+xgu/wD2SgDY/wCFe6B/0A9H/wDAKP8Awo/4V7oH/QD0f/wCj/wrYooAx/8AhXugf9APR/8AwCj/AMKP+Fe6B/0A9H/8Ao/8K2KKAMf/AIV7oH/QD0f/AMAo/wDCj/hXugf9APR//AKP/CtiigDH/wCFe6B/0A9H/wDAKP8Awo/4V7oH/QD0f/wCj/wrYooA89+Fvg3SNQ/4SPz9K02fyNcuYY/Mtkby0G3CjI4A7DpXVf8ACvdA/wCgHo//AIBR/wCFY/wh/wCZo/7GC7/9krsKAMf/AIV7oH/QD0f/AMAo/wDCj/hXugf9APR//AKP/CtiigDH/wCFe6B/0A9H/wDAKP8Awo/4V7oH/QD0f/wCj/wrYooAx/8AhXugf9APR/8AwCj/AMKP+Fe6B/0A9H/8Ao/8K2KKAMf/AIV7oH/QD0f/AMAo/wDCj/hXugf9APR//AKP/CtiigDH/wCFe6B/0A9H/wDAKP8AwrL+B1vHZ2fiWKJEiii1+6RERdqooCAAAdAK6yuW+C/+r8Uf9jDd/wDslAHa0UUUAcV8aP8AV+F/+xhtP/Z66muW+NH+r8L/APYw2n/s9dTQAUUUUAFFFfE3xh/4OK/2N/gH8VvEfgjxZ8Yf7J8T+E9Rn0nVbL/hFNcn+y3ULmOWPzIrNo32spG5GKnHBIpcyvy31K5JOPOlouvrt+T+4+2aK+K/gl/wcO/se/tGfFvw94F8GfF4614q8V30em6VYjwprcH2qeQ4RPMls1jTJ7uwA7kV9qVfLLl5raf1/mZ80eblvr/X+TCiiipKCuP+EP8AzNH/AGMF3/7JXYVx/wAIf+Zo/wCxgu//AGSgDsKKKKACiivlv9qP/gtZ+y1+xj8Tf+EM+I3xj8O6J4oR1iuNNt7e61OaxdsELcC0ilFucEHEpTgg9DmldXUerHZtNrofUlFcx8HfjT4S/aF+HWneLvA3iTRvFvhjV0L2ep6Vdpc204BIYB1JGVIIKnlSCCARiunqpRcXaS1JUlJXQUUUUhnH/CH/AJmj/sYLv/2Suwrj/hD/AMzR/wBjBd/+yV2FABRRRQAUUV8z/tb/APBYv9mf9hbxxF4Z+KPxc8PeHPEb7N+lwwXOpXlqHGVM8VpFK8AIwQZQoIIPSk5JNJvcai2rrofTFFcl8Dvjz4M/aW+Gun+MfAHibRvF3hfVVJtdS0u5WeCQg4Zcj7rKeGU4ZTwQDXW1UouLtJWZMZKSvHYKKKKQwrlvgv8A6vxR/wBjDd/+yV1Nct8F/wDV+KP+xhu//ZKAO1ooooA4r40f6vwv/wBjDaf+z11Nct8aP9X4X/7GG0/9nrqaACiiigAqB9MtpGLNbwEk5JMY5qevlf8A4LU/thT/ALDn/BNP4neN9NkePxHJp39iaB5YzJ/aN6wtoGUdyhkMmPSM1lXqOnTcoq76Lu3okvNuyRrRp+0qKDdk+vZdW/JLVng/7F1vF/wUq/4Kz/EX4+3EENx8M/2enuPhx8OFCAw3mqkA6tqacckZWFHBIKN6iv0gr59/4JX/ALI0H7DX/BP74X/DZYUj1HRdFin1h1HM+oz/AL+7cnqczSP17ADtX0FXXVpqjbDxd1DS/d3vKX/b0m5eSdtkc1Or7a+I259Uu0dor5Rsn3d31CiiisTQK4/4Q/8AM0f9jBd/+yV2Fcf8If8AmaP+xgu//ZKAOwooooAraxDPc6TdR2sghunhdYZCOI3IO0/gcV+SP/BD/wCNPwR/4J9/s/8AxC+G37Q3iPwR8M/j/Z+J9TufHsnji8t9Pu/FiTTO9veQTXJU3ltJCRtCFud52/Plv0p/bW+M2p/s6fsffFHx9oll/aWseDPCupa1Y2pXcJpre1klQEdxuUZ9s18L/wDBGH/gnN8F/wBqL9gLwn8Y/i34Q8LfHL4m/GG2l13xJ4m8Z6dBrd357yyJ9mhM4cW6QhRGFi2YKngcARS5vaVXG1uRJ3/vSbjb/wAAfN0em7taqtvZ01LrJtW/uxs7/wDgat1vfZXvp/8ABvt8OX03xT+0v488F6NeeGf2eviV46GqfDXTZ7V7SO4hWNkutQtoGA8u1uH8ryhtX5YgAMKK/SOvzJ/4JR6vN+yr/wAFav2kf2VvCeqX2pfBzwfpWneLPDemXFzJdL4MmulhafToZHLEQsZ96x7sLs4GS5P6bVtdSo0ZwvyuEUr72iuTXzvF67PdaMz1VarGfxczbtt73vq3laS8++twoooqCjj/AIQ/8zR/2MF3/wCyV2Fcf8If+Zo/7GC7/wDZK7CgAooooA534v8AiS98G/CbxRq+mxefqOlaRd3lrHt3eZLHC7ouO+WAr4D/AODZn4U+Ede/4JmaP8U5YdP8R/ET4ualquq+NfEF1Ast/qV39vuIzDLIwLbEVVwmduWZgPnr9HWUOpBGQeCD3r89G/4IbeLfgH8U/Eeq/szftNeOf2f/AAj401F9U1rwhHoFn4i0qOeT/WvYpcsosy2ByA5GAAdqqqzS92pNv7UUk+1m216Sur26wjo+jqe9Tik/hle3fSy+cel9Peezscf/AME9U0D9kn/gvz+0r8B/AkcWn+BfFnhTT/iL/YtoVFnoeqboIblYowcReatyjlQBwEAAUKK/Tyvye/4JM/sleHvAP/Bbr9oPxD4R1nxH4u034c+DrDwV4g8V65fG9vvEviK7nW9vZZpujSIIo42VQBGFRAAAK/WGtI8v1Wgk7vlevlzz5LdeXk5eVveNmTJ3xFXS2q7b8kebbrzX5l0lzLXcKKKKkYVy3wX/ANX4o/7GG7/9krqa5b4L/wCr8Uf9jDd/+yUAdrRRRQBxXxo/1fhf/sYbT/2euprlvjR/q/C//Yw2n/s9dTQAUUUUAFfMX/BTP/gnM3/BR/RPhbo114z/AOEX0HwB45sPGWpWJ0j7ePEK2u4LaE+fF5IYO/z4kxkfKcc/TtFC0lGXWLTXrFpr8Uv1Do49Gmn6NWa+adgooooAKKKKACuP+EP/ADNH/YwXf/sldhXH/CH/AJmj/sYLv/2SgDsKKKKAINU0y31vTLiyvIIrq0u4mgnhlQPHNGwKsrA8EEEgg+tfnlpf/BDXx9+zZf6rpn7Mn7Vnj74FfDzXL2S+uPB9x4ds/FFjpzSnMi2D3LI9oD143tnkk1+ilFTyrm5uu3quz7ryY+Z8vK9t/n3XZnzX/wAE5/8AgmB4I/4JyeH/ABPNo2q+JPGnjrx9ejUvFnjLxJdfatW1+4G4rvYABY1LuVUc/OSzMea+lKKK0lJu1+mnolokvJEpJX89fmFFFFSM4/4Q/wDM0f8AYwXf/sldhXH/AAh/5mj/ALGC7/8AZK7CgAooooAK+FvH/wDwTG/aU8Z+NtZt7T9uj4i6J8N9Zup5DoNp4L0v+2LKCWRmMEGsE+emxW2o+wsoUcmvumipcU3d/wDA+7Z/Md3ay/4P37nlH7GX7GHgP9gz4G2fgH4fafcWulQTyXt3d3s5ub/WLyUgzXd1MeZZ5CBluBgAAKqgD1eiitJTcneREYqKsgoooqSgrlvgv/q/FH/Yw3f/ALJXU1y3wX/1fij/ALGG7/8AZKAO1ooooA4r40f6vwv/ANjDaf8As9dTXLfGj/V+F/8AsYbT/wBnrqaACiiigAooooAKKKKACiiigArj/hD/AMzR/wBjBd/+yV2Fcf8ACH/maP8AsYLv/wBkoA7CiivJfjF+2r4F+Bv7SHwu+FGuXWof8Jp8X5L5PD1rb2bSROtnD51xJLLwkaqpUDksSwwCMkCTclBbvb8/y19AekXJ7LVnrVFFFABRRRQAUUUUAcf8If8AmaP+xgu//ZK7CuP+EP8AzNH/AGMF3/7JXYUAFFFFABRRRQAUUUUAFFFFABXLfBf/AFfij/sYbv8A9krqa5b4L/6vxR/2MN3/AOyUAdrRRRQBxXxo/wBX4X/7GG0/9nrqa5b40f6vwv8A9jDaf+z11NAHwJ/wXg/by+Jf7Bth+zvqfw4uL+X/AISz4oWGia5o1jY2dzc+JLB0dnsIjcowieUqFDoUYFh8wql8ZPgx/wAFEW8NXnxH8N/HP4T2WvWds1/F8JrfwNHPo020FvsZ1eWT7XJIQNvmBYlZ+nlqcjg/+DmD4kad8Hbn9j3xbq/2j+yfDHxy0jVb37PC00ohgV5JCqKCzHapwACT2FfdXxe/bi+FXwZ/Zhvvi/rHjnw2Ph/b6cdRg1aG/jlg1BNu5EgKk+bI5wqomWZiABms5PlwlSrzWlGclfey9nTa02d3eyaeqdrXd9bOVenSSvzRWnd881vvpptbpe+lvn34Rf8ABa3wj4r/AOCPN1+1Z4i0iTS00DTpo9a0CKX549Yhm+zGyjZhkCS4KBGYcLKpboa8++CXw+/4KGftJ/D/AEf4tX3xy+F/wouddthq2m/C4+AE1TTo4JFDwQX2oPKt3HIVK+Z5RO0k4/uj4svv2RfHur/8GnHxA1I6DqFvrHjHxRL8Uxo0gJnh0s6nDNnHp9li8/pypzjNfsX+zl+2/wDC347/ALJOi/FrRPGXhxPA02kx311fy38UUOkhYwZYrgsQIXiIKsr4KlTxXTOKXtK0/dnHkvHpC8OaW+j9/mgr3S9n5nOnpTp0/ejJ1LPrJRklDVd42lpa/N5HzF/wRF/bk+Mv7Yvxa/ae034xBNMvvhx4yt9F0/w/HBbiLw8PKl86COeOKN7iMyJuSSXcxUqc814l+wH+09+2P/wUv/4Xp4T8O/FvR/htafDv4n61pKePb7wZYaxdR2kbxrZ6TZ2Q8mFvLVJXmuLgO+JoQpY7ivVf8G8nxe074+ftR/tx+MtHhvYdI8R/Eu3vbD7XbvBNLbNDP5UpjcBlEibXAIBw4rof+Dav/kk/7UH/AGcH4p/9BtKnDwc+X2it/s8JNa/E/Ya973k9d3qndNpxCVoT5Hf9/OKej91SrWXa1kl5aWs0mrvxz/al/aD+Of7f5/ZN+EvxL8H/AA11vwP4Ds/Eniv4hat4ai1TU9YuJfLj/wBA015BbquXDvvLBS+BgKN/1H+w/wDCf47/AAe0PX9M+N/xZ8P/ABikM0D6Jrdj4Yi8P3Yj2t5yXFvCTD97YVZDyN2QOK8o/bQ/YK/Z4/4KTfG27jufFd74T+PHwrjhgXxH4L8Qf2R4s8Nxyxi4h34yWhZZdyl0YDc4RlO+uB/4IyftP/FLxB+0d+0N8A/iD49t/jNpvwLv9Ot9F8fx2qRXGox3UUjtZ3bR5je4h2BWbJfcH3E8YnDyck4S+NqUm+jjz3Tj/LZOKskk7Ozd7GlanyWkvgXKl3Tcba9ZXd5Xbb1WiSufoTXH/CH/AJmj/sYLv/2Suwrj/hD/AMzR/wBjBd/+yUijsK/Ef/gqD+zT+0Vef8Fyv2ZrW1/aYjs9S8Z3/iy6+H99/wAK906T/hXNqtsryWpjLbdR3xFIvMnwy7Nw5NftxX5pf8FS9ZtPCX/BdT/gn/qmqXEOn6aZfFtmLq4cRw+dLYwJHHuPG5mZVA7lgO9VhknjKN+rkt+8Jfjey79Nm03Uk/qldL+W+3Zr8LXbW3V7K2n/AMFJvjv8f/8AgnP+wz8CYpvjGvjL4j6z8WNH8M+JPFq+E9O08a3p95Ndu0H2LZJDBiNYY98eHPlbgwLGvu749+Jr3wX8C/GmsaZN9m1LSdCvr20m2K/lSx27ujbWBU4YA4IIOORXwV/wc0MD+wR4H8bQbr7Q/hl8V/D/AIj1uS0XzzBawTSwSn5e6vKoPoeDX0p+29+2Z8N/An/BPXxn8QZPFWj3/hzX/C12NDlsruOZtemuLV1t4LUA/vpZGZQqrk89gDjz8xq1JZfiasdJKU7W0tenBxSta2t+W3W9tbnXRhD63h4dHFXvtdVanNe/aPLfsrX0sfDet/8ABRL9o21/4N/vgx+1FpvjKbU/Ffh/VrbWfiDHHoWnH/hJ9FGpTW1xD5Yg2QYTyiXgEbBVc5zzX6JftE/th+G/gZ+w/wCJ/jgLiO98N6N4Uk8T2bqwxfIbfzbdFPTMhaNR7uK+V/8Aghp8IdH/AGgP+DfH4aeBvEEC3Oh+L/Cmq6PfRMM7oZ7u8ifHvhsg9iBXxJ8HvGfiH9rL9mL4Hf8ABP7xA80vifwh8Ub7wv8AEIFGTf4W8NyJeKx5yEnSWyijboSlerj6XPisRgqb5XKd4tL4Yt8k3/hp+5O2m8n3t5eX1UsNQxVXVKLUl3aXPH5ztON+vuLtf9Vf+CTXiH4teOP+Cf8A8OvE/wAb9fbxD8RfF+n/ANvX0h02308WUN0xltrYRQRxqPLgaMElS27dkmvo2o7W1jsbWOGFFihhUIiKMKigYAA9MVJU15xnUcoKy6Lsun/D9TSjGUYJTd31fn1/4bpsjj/hD/zNH/YwXf8A7JXF/wDBQq8+IelfsQ/FG/8AhNrMug/EfSvD11qPh+8jtLe7YXUCGZY/KuI5Im8wIY/mQ/6zIwQCO0+EP/M0f9jBd/8AsldbNCtzC0cih0dSrKwyGB6g1yYiEp0pQg7Np2fZnTQnGFSM5K6TWnfyPkH4Sf8ABS2DXf8Agifp37TWqzW9xe23w8fXdQEYVVm1SCBo5YgAAoLXaMgUDGSABXL/APBCP9s34oftKfsweNdL+PepR3fxc+Fnii50bxFObS3s90DwxXdtIY4I441XypioIQZ8ok5OSfg74TaZPpev6h/wTxK4ig/aKN/9lDEgeCI1HiHB46M0ccZ7bpgO9eof8FWPjNef8E0f2yP2jtR0cNbn9qP4Pwjw+sWSZvFFnPHpCJGnQuYL+B+Ovl81tVr80p4ilH+NH93G20uSNZW9bypaL4o29M6dGyhhpy/hS96XeLm6WuvS3tN3o7+Z1Hw7/aq/a5/ad/4Jh/ED9oz4beO5LnVLH4i6r4i8IeGH8Oaa0Gt+DrK4aI6Xk23nF3WOZllDecxQKHy2R65+1R/wVa1j47fstfBDTv2Y9Qth8Xf2nmiHhqea3ivR4Rso9ranqF1E4aM/ZAHiKupBk4w23B9k0PxL4H/4Iyf8Ep9Ak8V3QtfDnwg8IWtpcBSom1K8WJVMUY4DTT3DEAf3pOeM1+cH7AHw88Rf8Elv2x/AXxv+MXhnRfD3hH9rxLrTpI4YWSP4Qane3st/Z6YGdv3dvcJIokwFCzI2cBPm1VOH1l4VO9NOK5urajZRvp/G5Vfs72tKoiPayeH+ttcs2pPl0sot8zdtv3PN295WT0hZfZ/xP/ac+K/7Hv8AwVw+BPgHxh46u/FPwa+M/hO48P273mkWFs8Him0VZDcPNBCjA3KBQIs+WGmbagCjHVf8Fof2tvHv7O/wS8C+D/g/qq6P8Y/jT4z07wf4XvTZQXv9nB5BJdXbQzK8bJHAjA7lIHmA+9Vf+C9H7O2q/Gf9gTUfFvhOEv8AEH4IapafEnwvIiFpBc6a/myooHJ32/nLt7tt9K8g/ZD+Lmkf8FcP+CsOk/GbSCL34bfAD4e2UeiMy5Q+Itft0ubkjP8AHBZ7ImHVXas6P71xhLeE25dPc1qK9v5pKVFdly6bXqp+6i6kNpQtG+vvq0NL72ThUd73996629i/aO/Yy/a78dfFTUdX8AftrJ8OPCDwW622iXHwm0XV3tWjgjSaRrqUqzGSRZJSNoC+ZtAAUV4X/wAEUPif+1H+09+038R/EvjP9oqf4sfs++BL2fw5oeor4E0jQU8b6igCzzxeREZVtbd9wDrL+9Yp0Ada9C/4KyftCeIv2j/i7oH7GXwi1ibTPGHxFtft/wAQvEVq4H/CEeFsgTsW/huboHyo164fJxvVq+y/2e/gv4O/Zo+Dfhr4e+BrKz0nwx4UsY9P06yhcNsjQdWPVnY5ZmPLMzE8k0YZ2Uqz21jFb3e0pekdYx7y5tuRXWIV+Wl10b6WVvdXrLST/u2vfnuu2rlvgv8A6vxR/wBjDd/+yV1Nct8F/wDV+KP+xhu//ZKQztaKKKAOK+NH+r8L/wDYw2n/ALPXU1y3xo/1fhf/ALGG0/8AZ66mgD82v+Dg1BL8Vf2HVYBlb9oPQQQRkEbjXti/8EGf2QV+OMnxF/4UP4MPiaSf7U277Q2m+bu3bxp5k+xg554h619KfEH4NeEPi1d6HP4q8KeG/E0/hjUI9X0aTVtMhvX0m9j/ANXdW5kVjDMvaRMMOxrpaunJQp8q+LnlK/k4042/8kv80E/edntypW9JSf8A7cRfYYPsP2byYvs2zyvK2DZsxjbt6YxxivkeH/ggh+x7b/GofEBPgL4MXxGs32gKDcf2YJM7tw0/zfsec8/6mvr2ioWk/aL4u/X7w3jyPbt0Pzj/AOCKMaw/t8ft+qqhVX4pWwVQMAD7PLwK+0/2av2RPh5+yBpPiix+HXh7/hHrXxn4huvFWsp9vubv7ZqVzsE8+Z5HKbvLT5EKoMcKMmum8FfB3wj8Ndf8Qat4c8LeHNA1TxZdC+1y803TIbW41m4AIE1zJGoaaQAkbnJPJ5ro6KV4UqcFvGEIPz5YxT+TcU7eS7ERhZzfSU5z9OaUpL5pSt958w/tcf8ABGb9mP8Abq+In/CXfFL4SaJ4j8TssazapDeXmm3V2I1CIJpLSaIzbVCqPM3YVQOgAr2H9nP9l74efsi/DeHwh8M/B2g+CvDkDmb7FpdqIVlkIAMkjfekkIABdyWOBk8V3tFEPcjyx0TLn77UpatBXH/CH/maP+xgu/8A2Suwrj/hD/zNH/YwXf8A7JQB2FeUfte/sO/Cf9vX4bR+Evi74J0vxroVvP8AareK6aWGa0lwV3wzwsk0TEEglHUkHBr1eilKKkrSVxqTTujzH4V/sY/C34LfsywfBrw94K0a3+F9vaTWA8OXStf2csEzvJKkguC7SB3kdm3lsljXjnwS/wCCGf7J/wCzp461LxL4O+C3hzStc1S3ntpLt7q8umto5o2il+zCaZxalkdl3QBCAxAIzX1jRTn78pTnq5Jpt9U90+6fUS92KjHZO69e/qcP+zh+zj4M/ZI+CuhfDv4e6N/wj/g7wzE8Gm6f9rnu/syPI0jDzZ3eVsu7H5mPX0rmvBH7B3wk+HH7WXin45aJ4MsrD4qeNbFNN1nXlubhnvIFEQC+S0hhQkQRZZEVm2DcTXrtFU5yc/at+9rr11318+vclQioezS93TTppqtPJ7BRRRUlHH/CH/maP+xgu/8A2Suwrj/hD/zNH/YwXf8A7JXYUAeS2f7DHwqsP2wLr49xeEbdPi1e6ONBm1/7Zclnsxt/d+R5nkBsIo8wR78DG7HFJ+0r+wp8KP2wPF3gHXviP4QtvE2rfDDVl1zwzcyXlzbtpl2HjffiGRBKpaGImOUOh2DKmvW6KFpy2+y7ryd73XZ3d/XXcLu7ffR+ataz+WnppseY/tJfscfDj9r0+Ex8RvDp8T2/gnWYvEGkWk2o3UNpFfRf6uaWCKVIrjbzhZ1dRluOTm9+09+y14B/bM+C2q/Dz4meHLbxT4P1oxNd2E00sG5o5FkjZZYXSWNlZQQyMp98E16BRS5U48ttL3+emvrotfJdh8zUuZb7fLXT8X97PlH9vH/goj8Gv+CaX7PGp+HtU8T6Ne+L9L8OJbeGvAs2rHUvEHiBnRreziEEjvdTLLIuwzPuzhyzEg1kf8EJf2Drj/gn3/wTn8JeF9a0uDSfGniOSXxP4nt4own2e+uiG8ggdPJhWGHGTgxGvpPWf2dPh94j+Llj4/1DwJ4Nv/HmmW4tLPxJcaLbS6vaQgsRHHdMhmRAXchQwGWb1NdlVwk1zzk7ynZN+SbdvO7d35pW63mUU1CEdIx1S87W/BXS9Xfpb4w+O3/Bvd+yH+018X/EHj3x18KbnxF4u8U3j32p6jP4w11GuZW7hEvVRFAACoiqqqAqgAAVs/spf8ELv2WP2IvjVp3xE+F/wu/4RjxjpUU0FrqH/CSave+Uk0bRyDyri6kiOUYjlTjPGDX1tRU0/wB2rU9Ommmm1vu0HV/eNuprfXXXXcK5b4L/AOr8Uf8AYw3f/sldTXLfBf8A1fij/sYbv/2SgDtaKKKAOK+NH+r8L/8AYw2n/s9dTXO/F/RNR1nTNIfTLP7fPp2qw3rQ+csW5UD5+ZjjqQO/XpVT/hK/F/8A0JX/AJWIf8KAOtorkv8AhK/F/wD0JX/lYh/wo/4Svxf/ANCV/wCViH/CgDraK5L/AISvxf8A9CV/5WIf8KP+Er8X/wDQlf8AlYh/woA62iuS/wCEr8X/APQlf+ViH/Cj/hK/F/8A0JX/AJWIf8KAOtorkv8AhK/F/wD0JX/lYh/wo/4Svxf/ANCV/wCViH/CgDra4/4Q/wDM0f8AYwXf/slP/wCEr8X/APQlf+ViH/Csfwh/wl/hT+1P+KR8/wDtLUJb/wD5CkK+Xvx8vfOMdePpQB6LRXJf8JX4v/6Er/ysQ/4Uf8JX4v8A+hK/8rEP+FAHW0VyX/CV+L/+hK/8rEP+FH/CV+L/APoSv/KxD/hQB1tFcl/wlfi//oSv/KxD/hR/wlfi/wD6Er/ysQ/4UAdbRXJf8JX4v/6Er/ysQ/4Uf8JX4v8A+hK/8rEP+FADPhD/AMzR/wBjBd/+yV2FedeEP+Ev8Kf2p/xSPn/2lqEt/wD8hSFfL34+XvnGOvH0rY/4Svxf/wBCV/5WIf8ACgDraK5L/hK/F/8A0JX/AJWIf8KP+Er8X/8AQlf+ViH/AAoA62iuS/4Svxf/ANCV/wCViH/Cj/hK/F//AEJX/lYh/wAKAOtorkv+Er8X/wDQlf8AlYh/wo/4Svxf/wBCV/5WIf8ACgDraK5L/hK/F/8A0JX/AJWIf8KP+Er8X/8AQlf+ViH/AAoA62uW+C/+r8Uf9jDd/wDslR/8JX4v/wChK/8AKxD/AIVb+EGiajo2mau+p2f2CfUdVmvVh85ZdquEx8ynHUEdunSgDrqKKKACiiigAooooAKKKKACiiigAooooAKKKKACiiigAooooAKKKKACiiigAooooAKKKKACiiigAooooAKKKKACiiigAooooA//2Q==)\n",
        "\n",
        "In order to input a word using this keyboard, one needs to press a key multiple times for the required letter. More specifically, if the required letter is the first letter mapped to the key, one key press is needed, if it's the second, two key presses are needed and so on. For instance, if we want to input the word giht, we will press the following keys: g-4 i-444 h-44 t-8. The new possibility Marko discovered enables you to input text more easily because you don't need several presses per letter anymore, just one. The software will try to figure out what word from the dictionary you are trying to input.\n",
        "\n",
        "Marko is quite skeptical of new technologies (at least new for him) and he is afraid that errors will be frequent. That is the reason why he decided to test his hypothesis that the errors are frequent. Marko knows by heart the whole dictionary in the mobile phone. The dictionary consists of N words consisting of lowercase letters from the English alphabet, the total length of the word not exceeding 1000000 characters. He will give an array of key presses S, of total length at most 1000, and wants to know how many words from the dictionary can be mapped to the given array of key presses if the T9 input feature is used.\n",
        "\n",
        "**Input Specification**\n",
        "\n",
        "The first line of input contains the integer N, the number of words in the dictionary. (1 ≤ N ≤ 1000). Each of the following N lines contains a single word. The last line of input contains the string S(1 ≤ |S| ≤ 1000) consisting of digits 2-9.\n",
        "\n",
        "**Output Specification**\n",
        "\n",
        "The first and only line of output must contain the number of words from the dictionary possible to construct from the letters on the keys determined by the string S."
      ],
      "metadata": {
        "id": "RpMP6sI7MUzY"
      }
    },
    {
      "cell_type": "code",
      "source": [
        "def letter_to_number(a):\n",
        "  num_val = 0\n",
        "  if a in {\"a\", \"b\", \"c\"}:\n",
        "    num_val = \"2\"\n",
        "  elif a in {\"d\", \"e\", \"f\"}:\n",
        "    num_val = \"3\"\n",
        "  elif a in {\"g\", \"h\", \"i\"}:\n",
        "    num_val = \"4\"\n",
        "  elif a in {\"j\", \"k\", \"l\"}:\n",
        "    num_val = \"5\"\n",
        "  elif a in {\"m\", \"n\", \"o\"}:\n",
        "    num_val = \"6\"\n",
        "  elif a in {\"p\", \"q\", \"r\", \"s\"}:\n",
        "    num_val = \"7\"\n",
        "  elif a in {\"t\", \"u\", \"v\"}:\n",
        "    num_val = \"8\"\n",
        "  elif a in {\"w\", \"x\", \"y\", \"z\"}:\n",
        "    num_val = \"9\"\n",
        "  return num_val\n",
        "\n",
        "N = int(input(\"Please enter the number of words in the dictionary: \"))\n",
        "\n",
        "num_list_set = []\n",
        "\n",
        "for i in range(N):\n",
        "  word = input(\"Please enter the next word: \")\n",
        "  num_list = \"\"\n",
        "  for j in range(len(word)):\n",
        "    num = letter_to_number(word[j])\n",
        "    num_list = num_list + num\n",
        "  num_list_set.append(num_list)\n",
        "\n",
        "S = input(\"Please enter the digits: \")\n",
        "\n",
        "counter = 0\n",
        "\n",
        "for i in range(len(num_list_set)):\n",
        "  if S == num_list_set[i]:\n",
        "    counter = counter + 1\n",
        "\n",
        "print(counter)"
      ],
      "metadata": {
        "id": "g6byN5AEN1rP"
      },
      "execution_count": null,
      "outputs": []
    }
  ]
}