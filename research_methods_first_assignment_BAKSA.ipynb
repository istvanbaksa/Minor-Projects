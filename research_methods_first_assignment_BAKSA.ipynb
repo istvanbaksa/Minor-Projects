{
  "nbformat": 4,
  "nbformat_minor": 0,
  "metadata": {
    "colab": {
      "provenance": []
    },
    "kernelspec": {
      "name": "python3",
      "display_name": "Python 3"
    },
    "language_info": {
      "name": "python"
    }
  },
  "cells": [
    {
      "cell_type": "markdown",
      "source": [
        "# **First assignment for the course Research Methods (lecturer: Maximilian Theil)**\n",
        "\n",
        "Link to the online version of this notebook: https://colab.research.google.com/drive/1-FD0ELLq9zJIqOc0OqKWKZjK14DmcbcO?usp=sharing\n",
        "\n",
        "(Please note that if you want to run the code online, you will need a google account)"
      ],
      "metadata": {
        "id": "aSh4yKSUIGms"
      }
    },
    {
      "cell_type": "markdown",
      "source": [
        "Assignment details:\n",
        "\n",
        "Minimizes the given function through iterating over a set of solutions\n",
        "\n",
        "$$𝒇 = 𝒙(𝟎.𝟓𝒙^𝟑−𝟐𝒙−𝟏)−𝟏.𝟓$$\n",
        "\n",
        "- Loop over a range from -10 to 10\n",
        "- Evaluate the function at each iteration\n",
        "- Save all intermediary solutions\n",
        "- Exit the loop when the function is minimized\n",
        "- Print the value that minimizes the function and it‘s function-value\n"
      ],
      "metadata": {
        "id": "sg_Jy8VsIwp2"
      }
    },
    {
      "cell_type": "markdown",
      "source": [
        "Minimum (definition):\n",
        "\n",
        "Let $f: A → {\\displaystyle \\mathbb {R} }$ be a real function and $M ⊆ A$. The argument $p ∈ M$ is a minimum of $f$ in $M$ if $f(x) ≥ f(p)$ for all $x ∈ M$.\n",
        "\n",
        "If a minimum of $f$ is a minimum in the whole domain of $f$, then it is called a global minimum of $f$.\n",
        "\n",
        "An argument $p$ is called a local minimum, if there is an environment $E(p) ⊆ A$ such that $p$ is a minimum of $f$ in $E(p)$ is.\n",
        "\n",
        "Remarks:\n",
        "\n",
        "(1) It follows from the above definitions that every global minimum is also a local minimum (but not vice versa).\n",
        "\n",
        "(2) If there is a section where the graph of the function \"flattens out\" (i.e. it becomes a straight line because all y-values are the same for the interval), it is possible that all points of the inteval are local or global minima (as the condition for being a minimum only requires that there is an environment around the point where no other point lies higher).\n"
      ],
      "metadata": {
        "id": "nu1id3PYKOZG"
      }
    },
    {
      "cell_type": "markdown",
      "source": [
        "The next section of code goes through the interval $[-10;10]$ by taking one custom-size step at a time and examines whether the value of the function at the currnet argument is smaller than the value at the previous argument; if it is, it takes another step and examines the values again; if it is not (meaning that the function value increased in the next step) the process is terminated and the coordinates of point immediately before the increase are printed.\n",
        "\n",
        "The value that minimizes the function is the first coordinate, the function value that belongs to it (the minimum value) is the second coordinate."
      ],
      "metadata": {
        "id": "hcStaL2aP4tD"
      }
    },
    {
      "cell_type": "code",
      "source": [
        "#### This program finds the first local minimum (the local minmum in range with the smalles x-value) of a given function by looping through a pre-defined range with a custom step size. ####\n",
        "\n",
        "#### Student's name: István BAKSA ####\n",
        "\n",
        "lower_limit = -10            # Setting lower limit of range\n",
        "upper_limit = 10             # Setting upper limit of range\n",
        "\n",
        "step_size = 0.001            # Setting step size. It is recommended that the chosen number comes from the sequence 1, 0.1, 0.001, 0.0001 ...\n",
        "\n",
        "num_iter = int((upper_limit - lower_limit) / step_size) + 1     # Calculating the number of iterations. The + 1 is needed so that the upper limit also plugged in to the fuction for x\n",
        "\n",
        "def f(x):                                                       # Defining the function whose minimum is then calculated\n",
        "    return x*(0.5*x**3 - 2*x - 1) - 1.5\n",
        "\n",
        "minima = [lower_limit, f(lower_limit)]                          # Setting up a list where the coordinates of potential minima is stored. Initial value: coordinates of the point with the smallest x-value in the interval (the \"leftmost\" point)\n",
        "\n",
        "for i in range(1,num_iter):                                     # Starting the loop which will go through the defined range with the defined step size. The initial value is already set in minima, so the loop starts at 1, not at zero\n",
        "\n",
        "  x = lower_limit + (step_size * i)                             # Value for the x-coordinate\n",
        "  y = f(x)                                                      # Value for the y-coordinate\n",
        "\n",
        "  if y <= minima[1]:                                            # Comparing the calculated function value (y) with the initial value. If it is smaller, the reference value will be updated to the new value; if not, the loop ends\n",
        "    minima = [x,y]\n",
        "  else:\n",
        "    break\n",
        "\n",
        "print('The first local minimum in the interval (',lower_limit,';',upper_limit,') has the following coordinates: ', minima)      # Printing result"
      ],
      "metadata": {
        "colab": {
          "base_uri": "https://localhost:8080/"
        },
        "id": "kpjGDnc3QTPN",
        "outputId": "83667251-6430-4de9-8f0d-3f53c586abed"
      },
      "execution_count": 43,
      "outputs": [
        {
          "output_type": "stream",
          "name": "stdout",
          "text": [
            "The first local minimum in the interval ( -10 ; 10 ) has the following coordinates:  [-1.2669999999999995, -2.1551016132395002]\n"
          ]
        }
      ]
    },
    {
      "cell_type": "markdown",
      "source": [
        "The next section is a more advanced version of the above program: it finds all minima of the function $f$ decies which one of them is a global minimum and which are local minima and prints the results."
      ],
      "metadata": {
        "id": "2wtyEZ6US6KB"
      }
    },
    {
      "cell_type": "code",
      "source": [
        "#### This program finds all the minima of a given function by looping through a pre-defined range with a custom step size and then prints out local minima and the global minimum. ####\n",
        "\n",
        "#### Student's name: István BAKSA ####\n",
        "\n",
        "lower_limit = -10             # Setting lower limit of range\n",
        "upper_limit = 10              # Setting upper limit of range\n",
        "\n",
        "step_size = 0.001             # Setting step size. It is recommended that the chosen number comes from the sequence 1, 0.1, 0.001, 0.0001 ...\n",
        "\n",
        "num_iter = int((upper_limit - lower_limit) / step_size) + 1     # Calculating the number of iterations. The + 1 is needed so that the upper limit also plugged in to the fuction for x\n",
        "\n",
        "\n",
        "def f(x):                                                       # Defining the function whose minimum is then calculated\n",
        "    return x*(0.5*x**3 - 2*x - 1) - 1.5\n",
        "\n",
        "minima = []                                                     # Setting up a list where the coordinates of potential minima is stored. Initial value: coordinates of the point with the smallest x-value in the interval (the \"leftmost\" point)\n",
        "\n",
        "\n",
        "for i in range(num_iter):                                       # Starting the loop which will go through the defined range with the defined step size. The initial value is already set in minima, so the loop starts at 1, not at zero\n",
        "\n",
        "  x = lower_limit + (step_size * i)                             # Value for the x-coordinate\n",
        "  y = f(x)                                                      # Value for the y-coordinate\n",
        "\n",
        "  temp_coordinates = [x,y]                                      # Storing actual values of the process\n",
        "\n",
        "  if (i == 0) and (f(lower_limit + (step_size * i)) < f(lower_limit + (step_size * (i + 1)))):                    # First case: the argument is the lower limit of the interval. It counts as a minimum, if at least the next function value is higher.\n",
        "    minima.append(temp_coordinates)\n",
        "\n",
        "  elif (0 < i < num_iter) and f(lower_limit + (step_size * (i - 1))) >= f(lower_limit + (step_size * i)) <= f(lower_limit + (step_size * (i + 1))):     # Second case: the argument is between the lower and upper limit of the interval.\n",
        "    minima.append(temp_coordinates)                                                                                                                     # It counts as a minimum, if no point lies higher in its immediate environment.\n",
        "\n",
        "  elif (i == num_iter) and f(lower_limit + (step_size * i)) < f(lower_limit + (step_size * (i - 1))):             # Third case: the argument is the upper limit of the interval. It counts as a minimum, if the previous point lies higher.\n",
        "    minima.append(temp_coordinates)\n",
        "\n",
        "\n",
        "sorted_coordinates = sorted(minima, key = lambda point: point[1])               # Sorting points in the list minima according to the second coordinate to find the global minimum of the interval.\n",
        "\n",
        "global_minima = [sorted_coordinates[0]]                                         # Putting the first item of the sorted list. This is certainly a global minimum.\n",
        "\n",
        "for j in range(len(global_minima)):                                             # This loop examines whether there are other minima with the same y-value as the first element of the list global_minima.\n",
        "  if sorted_coordinates[j + 1][1] == global_minima[j - 1][1]:                   # If there are others, they will also count as global minima, according to our definitions. In this case the list will be appended with further values.\n",
        "    global_minima.append(sorted_coordinates[j + 1])\n",
        "\n",
        "  else: break                                                                   # If there are no other points with the same y-value as the first point in the list global_minima, the loop terminates.\n",
        "\n",
        "\n",
        "print('Local minima of the function f in the interval (',lower_limit,';',upper_limit,') have the following coordinates:')         # Printing all local minima. Note that all global minima are also local minima, so they have to be included here.\n",
        "\n",
        "for k in range(len(minima)):                                                                                                      # Looping through the list of minima\n",
        "  print(minima[k])\n",
        "\n",
        "print('Coordinates of global minima in the interval (',lower_limit,';',upper_limit,'):')                                          # Printing all global local minima.\n",
        "\n",
        "for l in range(len(global_minima)):                                                                                               # Looping through the list of global minima\n",
        "  print(global_minima[l])"
      ],
      "metadata": {
        "colab": {
          "base_uri": "https://localhost:8080/"
        },
        "id": "Ys-orVUppG6F",
        "outputId": "2bafbda5-212a-4af6-c83f-1fa05acc691a"
      },
      "execution_count": 44,
      "outputs": [
        {
          "output_type": "stream",
          "name": "stdout",
          "text": [
            "Local minima of the function f in the interval ( -10 ; 10 ) have the following coordinates:\n",
            "[-1.2669999999999995, -2.1551016132395002]\n",
            "[1.5259999999999998, -4.9719860435120005]\n",
            "Coordinates of global minima in the interval ( -10 ; 10 ):\n",
            "[1.5259999999999998, -4.9719860435120005]\n"
          ]
        }
      ]
    }
  ]
}